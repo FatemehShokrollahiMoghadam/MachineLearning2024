{
  "nbformat": 4,
  "nbformat_minor": 0,
  "metadata": {
    "colab": {
      "provenance": []
    },
    "kernelspec": {
      "name": "python3",
      "display_name": "Python 3"
    },
    "language_info": {
      "name": "python"
    }
  },
  "cells": [
    {
      "cell_type": "markdown",
      "source": [
        "#Q1"
      ],
      "metadata": {
        "id": "KY0HlOJF6ypI"
      }
    },
    {
      "cell_type": "markdown",
      "source": [
        "https://drive.google.com/file/d/1xYomFphME-yn__m8UT69hYGvzv_XAMYa/view?usp=sharing"
      ],
      "metadata": {
        "id": "BWtSaOscW4YB"
      }
    },
    {
      "cell_type": "code",
      "execution_count": 1,
      "metadata": {
        "colab": {
          "base_uri": "https://localhost:8080/"
        },
        "id": "q4YEf81f3fCI",
        "outputId": "3cd025c7-dba8-49cc-a9e3-51f79671eab2"
      },
      "outputs": [
        {
          "output_type": "stream",
          "name": "stdout",
          "text": [
            "Requirement already satisfied: gdown in /usr/local/lib/python3.10/dist-packages (5.1.0)\n",
            "Collecting gdown\n",
            "  Downloading gdown-5.2.0-py3-none-any.whl (18 kB)\n",
            "Requirement already satisfied: beautifulsoup4 in /usr/local/lib/python3.10/dist-packages (from gdown) (4.12.3)\n",
            "Requirement already satisfied: filelock in /usr/local/lib/python3.10/dist-packages (from gdown) (3.14.0)\n",
            "Requirement already satisfied: requests[socks] in /usr/local/lib/python3.10/dist-packages (from gdown) (2.31.0)\n",
            "Requirement already satisfied: tqdm in /usr/local/lib/python3.10/dist-packages (from gdown) (4.66.4)\n",
            "Requirement already satisfied: soupsieve>1.2 in /usr/local/lib/python3.10/dist-packages (from beautifulsoup4->gdown) (2.5)\n",
            "Requirement already satisfied: charset-normalizer<4,>=2 in /usr/local/lib/python3.10/dist-packages (from requests[socks]->gdown) (3.3.2)\n",
            "Requirement already satisfied: idna<4,>=2.5 in /usr/local/lib/python3.10/dist-packages (from requests[socks]->gdown) (3.7)\n",
            "Requirement already satisfied: urllib3<3,>=1.21.1 in /usr/local/lib/python3.10/dist-packages (from requests[socks]->gdown) (2.0.7)\n",
            "Requirement already satisfied: certifi>=2017.4.17 in /usr/local/lib/python3.10/dist-packages (from requests[socks]->gdown) (2024.2.2)\n",
            "Requirement already satisfied: PySocks!=1.5.7,>=1.5.6 in /usr/local/lib/python3.10/dist-packages (from requests[socks]->gdown) (1.7.1)\n",
            "Installing collected packages: gdown\n",
            "  Attempting uninstall: gdown\n",
            "    Found existing installation: gdown 5.1.0\n",
            "    Uninstalling gdown-5.1.0:\n",
            "      Successfully uninstalled gdown-5.1.0\n",
            "Successfully installed gdown-5.2.0\n",
            "Downloading...\n",
            "From: https://drive.google.com/uc?id=1FG6IKg5KX5x9pnT6pb8CUvcJ_WcEYPiz\n",
            "To: /content/NOV9.csv\n",
            "100% 7.92M/7.92M [00:00<00:00, 40.7MB/s]\n",
            "Downloading...\n",
            "From: https://drive.google.com/uc?id=1xYomFphME-yn__m8UT69hYGvzv_XAMYa\n",
            "To: /content/NOV17.csv\n",
            "100% 7.92M/7.92M [00:00<00:00, 49.4MB/s]\n"
          ]
        }
      ],
      "source": [
        "!pip install --upgrade --no-cache-dir gdown\n",
        "!gdown 1FG6IKg5KX5x9pnT6pb8CUvcJ_WcEYPiz\n",
        "!gdown 1xYomFphME-yn__m8UT69hYGvzv_XAMYa"
      ]
    },
    {
      "cell_type": "code",
      "source": [
        "import pandas as pd\n",
        "import numpy as np\n",
        "import matplotlib.pyplot as plt\n",
        "from sklearn.model_selection import train_test_split\n",
        "from sklearn.preprocessing import MinMaxScaler"
      ],
      "metadata": {
        "id": "uoymNBRAxKAv"
      },
      "execution_count": 84,
      "outputs": []
    },
    {
      "cell_type": "code",
      "source": [
        "import pandas as pd\n",
        "# Load the dataset from the specified file path\n",
        "df = pd.read_csv('/content/NOV9.csv', header=None)\n",
        "\n",
        "# Display the first few rows of the DataFrame\n",
        "df.head()"
      ],
      "metadata": {
        "colab": {
          "base_uri": "https://localhost:8080/",
          "height": 206
        },
        "id": "cYauH-FXYGh4",
        "outputId": "a744e0dc-c8eb-4504-9de6-9eb755c9937c"
      },
      "execution_count": 9,
      "outputs": [
        {
          "output_type": "execute_result",
          "data": {
            "text/plain": [
              "   0      1      2     3      4     5     6     7      8      9     10    11  \\\n",
              "0   0  699.1  300.6  97.8  296.2  42.7  42.0  46.1  129.1  133.4  12.2  26.4   \n",
              "1   1  697.7  298.9  97.8  295.4  41.8  41.6  45.3  129.1  133.3  12.2  26.4   \n",
              "2   2  696.2  301.8  97.8  295.4  42.9  41.4  46.6  129.1  133.4  12.2  26.3   \n",
              "3   3  702.8  300.9  97.7  295.1  43.1  41.5  46.0  129.1  133.4  12.2  26.2   \n",
              "4   4  701.3  292.6  97.8  294.6  42.6  42.3  47.0  129.1  133.4  12.2  26.1   \n",
              "\n",
              "     12     13     14     15     16  \n",
              "0  53.0  242.0  136.9  164.0  132.1  \n",
              "1  51.6  241.4  136.9  164.1  132.1  \n",
              "2  50.3  241.6  136.9  164.1  132.1  \n",
              "3  50.2  241.6  136.9  164.2  132.1  \n",
              "4  51.8  241.3  136.8  163.9  132.1  "
            ],
            "text/html": [
              "\n",
              "  <div id=\"df-44938f0b-f614-4343-a204-e1857262ed2e\" class=\"colab-df-container\">\n",
              "    <div>\n",
              "<style scoped>\n",
              "    .dataframe tbody tr th:only-of-type {\n",
              "        vertical-align: middle;\n",
              "    }\n",
              "\n",
              "    .dataframe tbody tr th {\n",
              "        vertical-align: top;\n",
              "    }\n",
              "\n",
              "    .dataframe thead th {\n",
              "        text-align: right;\n",
              "    }\n",
              "</style>\n",
              "<table border=\"1\" class=\"dataframe\">\n",
              "  <thead>\n",
              "    <tr style=\"text-align: right;\">\n",
              "      <th></th>\n",
              "      <th>0</th>\n",
              "      <th>1</th>\n",
              "      <th>2</th>\n",
              "      <th>3</th>\n",
              "      <th>4</th>\n",
              "      <th>5</th>\n",
              "      <th>6</th>\n",
              "      <th>7</th>\n",
              "      <th>8</th>\n",
              "      <th>9</th>\n",
              "      <th>10</th>\n",
              "      <th>11</th>\n",
              "      <th>12</th>\n",
              "      <th>13</th>\n",
              "      <th>14</th>\n",
              "      <th>15</th>\n",
              "      <th>16</th>\n",
              "    </tr>\n",
              "  </thead>\n",
              "  <tbody>\n",
              "    <tr>\n",
              "      <th>0</th>\n",
              "      <td>0</td>\n",
              "      <td>699.1</td>\n",
              "      <td>300.6</td>\n",
              "      <td>97.8</td>\n",
              "      <td>296.2</td>\n",
              "      <td>42.7</td>\n",
              "      <td>42.0</td>\n",
              "      <td>46.1</td>\n",
              "      <td>129.1</td>\n",
              "      <td>133.4</td>\n",
              "      <td>12.2</td>\n",
              "      <td>26.4</td>\n",
              "      <td>53.0</td>\n",
              "      <td>242.0</td>\n",
              "      <td>136.9</td>\n",
              "      <td>164.0</td>\n",
              "      <td>132.1</td>\n",
              "    </tr>\n",
              "    <tr>\n",
              "      <th>1</th>\n",
              "      <td>1</td>\n",
              "      <td>697.7</td>\n",
              "      <td>298.9</td>\n",
              "      <td>97.8</td>\n",
              "      <td>295.4</td>\n",
              "      <td>41.8</td>\n",
              "      <td>41.6</td>\n",
              "      <td>45.3</td>\n",
              "      <td>129.1</td>\n",
              "      <td>133.3</td>\n",
              "      <td>12.2</td>\n",
              "      <td>26.4</td>\n",
              "      <td>51.6</td>\n",
              "      <td>241.4</td>\n",
              "      <td>136.9</td>\n",
              "      <td>164.1</td>\n",
              "      <td>132.1</td>\n",
              "    </tr>\n",
              "    <tr>\n",
              "      <th>2</th>\n",
              "      <td>2</td>\n",
              "      <td>696.2</td>\n",
              "      <td>301.8</td>\n",
              "      <td>97.8</td>\n",
              "      <td>295.4</td>\n",
              "      <td>42.9</td>\n",
              "      <td>41.4</td>\n",
              "      <td>46.6</td>\n",
              "      <td>129.1</td>\n",
              "      <td>133.4</td>\n",
              "      <td>12.2</td>\n",
              "      <td>26.3</td>\n",
              "      <td>50.3</td>\n",
              "      <td>241.6</td>\n",
              "      <td>136.9</td>\n",
              "      <td>164.1</td>\n",
              "      <td>132.1</td>\n",
              "    </tr>\n",
              "    <tr>\n",
              "      <th>3</th>\n",
              "      <td>3</td>\n",
              "      <td>702.8</td>\n",
              "      <td>300.9</td>\n",
              "      <td>97.7</td>\n",
              "      <td>295.1</td>\n",
              "      <td>43.1</td>\n",
              "      <td>41.5</td>\n",
              "      <td>46.0</td>\n",
              "      <td>129.1</td>\n",
              "      <td>133.4</td>\n",
              "      <td>12.2</td>\n",
              "      <td>26.2</td>\n",
              "      <td>50.2</td>\n",
              "      <td>241.6</td>\n",
              "      <td>136.9</td>\n",
              "      <td>164.2</td>\n",
              "      <td>132.1</td>\n",
              "    </tr>\n",
              "    <tr>\n",
              "      <th>4</th>\n",
              "      <td>4</td>\n",
              "      <td>701.3</td>\n",
              "      <td>292.6</td>\n",
              "      <td>97.8</td>\n",
              "      <td>294.6</td>\n",
              "      <td>42.6</td>\n",
              "      <td>42.3</td>\n",
              "      <td>47.0</td>\n",
              "      <td>129.1</td>\n",
              "      <td>133.4</td>\n",
              "      <td>12.2</td>\n",
              "      <td>26.1</td>\n",
              "      <td>51.8</td>\n",
              "      <td>241.3</td>\n",
              "      <td>136.8</td>\n",
              "      <td>163.9</td>\n",
              "      <td>132.1</td>\n",
              "    </tr>\n",
              "  </tbody>\n",
              "</table>\n",
              "</div>\n",
              "    <div class=\"colab-df-buttons\">\n",
              "\n",
              "  <div class=\"colab-df-container\">\n",
              "    <button class=\"colab-df-convert\" onclick=\"convertToInteractive('df-44938f0b-f614-4343-a204-e1857262ed2e')\"\n",
              "            title=\"Convert this dataframe to an interactive table.\"\n",
              "            style=\"display:none;\">\n",
              "\n",
              "  <svg xmlns=\"http://www.w3.org/2000/svg\" height=\"24px\" viewBox=\"0 -960 960 960\">\n",
              "    <path d=\"M120-120v-720h720v720H120Zm60-500h600v-160H180v160Zm220 220h160v-160H400v160Zm0 220h160v-160H400v160ZM180-400h160v-160H180v160Zm440 0h160v-160H620v160ZM180-180h160v-160H180v160Zm440 0h160v-160H620v160Z\"/>\n",
              "  </svg>\n",
              "    </button>\n",
              "\n",
              "  <style>\n",
              "    .colab-df-container {\n",
              "      display:flex;\n",
              "      gap: 12px;\n",
              "    }\n",
              "\n",
              "    .colab-df-convert {\n",
              "      background-color: #E8F0FE;\n",
              "      border: none;\n",
              "      border-radius: 50%;\n",
              "      cursor: pointer;\n",
              "      display: none;\n",
              "      fill: #1967D2;\n",
              "      height: 32px;\n",
              "      padding: 0 0 0 0;\n",
              "      width: 32px;\n",
              "    }\n",
              "\n",
              "    .colab-df-convert:hover {\n",
              "      background-color: #E2EBFA;\n",
              "      box-shadow: 0px 1px 2px rgba(60, 64, 67, 0.3), 0px 1px 3px 1px rgba(60, 64, 67, 0.15);\n",
              "      fill: #174EA6;\n",
              "    }\n",
              "\n",
              "    .colab-df-buttons div {\n",
              "      margin-bottom: 4px;\n",
              "    }\n",
              "\n",
              "    [theme=dark] .colab-df-convert {\n",
              "      background-color: #3B4455;\n",
              "      fill: #D2E3FC;\n",
              "    }\n",
              "\n",
              "    [theme=dark] .colab-df-convert:hover {\n",
              "      background-color: #434B5C;\n",
              "      box-shadow: 0px 1px 3px 1px rgba(0, 0, 0, 0.15);\n",
              "      filter: drop-shadow(0px 1px 2px rgba(0, 0, 0, 0.3));\n",
              "      fill: #FFFFFF;\n",
              "    }\n",
              "  </style>\n",
              "\n",
              "    <script>\n",
              "      const buttonEl =\n",
              "        document.querySelector('#df-44938f0b-f614-4343-a204-e1857262ed2e button.colab-df-convert');\n",
              "      buttonEl.style.display =\n",
              "        google.colab.kernel.accessAllowed ? 'block' : 'none';\n",
              "\n",
              "      async function convertToInteractive(key) {\n",
              "        const element = document.querySelector('#df-44938f0b-f614-4343-a204-e1857262ed2e');\n",
              "        const dataTable =\n",
              "          await google.colab.kernel.invokeFunction('convertToInteractive',\n",
              "                                                    [key], {});\n",
              "        if (!dataTable) return;\n",
              "\n",
              "        const docLinkHtml = 'Like what you see? Visit the ' +\n",
              "          '<a target=\"_blank\" href=https://colab.research.google.com/notebooks/data_table.ipynb>data table notebook</a>'\n",
              "          + ' to learn more about interactive tables.';\n",
              "        element.innerHTML = '';\n",
              "        dataTable['output_type'] = 'display_data';\n",
              "        await google.colab.output.renderOutput(dataTable, element);\n",
              "        const docLink = document.createElement('div');\n",
              "        docLink.innerHTML = docLinkHtml;\n",
              "        element.appendChild(docLink);\n",
              "      }\n",
              "    </script>\n",
              "  </div>\n",
              "\n",
              "\n",
              "<div id=\"df-18efe53c-f9e6-4d65-8c3d-22894da46f69\">\n",
              "  <button class=\"colab-df-quickchart\" onclick=\"quickchart('df-18efe53c-f9e6-4d65-8c3d-22894da46f69')\"\n",
              "            title=\"Suggest charts\"\n",
              "            style=\"display:none;\">\n",
              "\n",
              "<svg xmlns=\"http://www.w3.org/2000/svg\" height=\"24px\"viewBox=\"0 0 24 24\"\n",
              "     width=\"24px\">\n",
              "    <g>\n",
              "        <path d=\"M19 3H5c-1.1 0-2 .9-2 2v14c0 1.1.9 2 2 2h14c1.1 0 2-.9 2-2V5c0-1.1-.9-2-2-2zM9 17H7v-7h2v7zm4 0h-2V7h2v10zm4 0h-2v-4h2v4z\"/>\n",
              "    </g>\n",
              "</svg>\n",
              "  </button>\n",
              "\n",
              "<style>\n",
              "  .colab-df-quickchart {\n",
              "      --bg-color: #E8F0FE;\n",
              "      --fill-color: #1967D2;\n",
              "      --hover-bg-color: #E2EBFA;\n",
              "      --hover-fill-color: #174EA6;\n",
              "      --disabled-fill-color: #AAA;\n",
              "      --disabled-bg-color: #DDD;\n",
              "  }\n",
              "\n",
              "  [theme=dark] .colab-df-quickchart {\n",
              "      --bg-color: #3B4455;\n",
              "      --fill-color: #D2E3FC;\n",
              "      --hover-bg-color: #434B5C;\n",
              "      --hover-fill-color: #FFFFFF;\n",
              "      --disabled-bg-color: #3B4455;\n",
              "      --disabled-fill-color: #666;\n",
              "  }\n",
              "\n",
              "  .colab-df-quickchart {\n",
              "    background-color: var(--bg-color);\n",
              "    border: none;\n",
              "    border-radius: 50%;\n",
              "    cursor: pointer;\n",
              "    display: none;\n",
              "    fill: var(--fill-color);\n",
              "    height: 32px;\n",
              "    padding: 0;\n",
              "    width: 32px;\n",
              "  }\n",
              "\n",
              "  .colab-df-quickchart:hover {\n",
              "    background-color: var(--hover-bg-color);\n",
              "    box-shadow: 0 1px 2px rgba(60, 64, 67, 0.3), 0 1px 3px 1px rgba(60, 64, 67, 0.15);\n",
              "    fill: var(--button-hover-fill-color);\n",
              "  }\n",
              "\n",
              "  .colab-df-quickchart-complete:disabled,\n",
              "  .colab-df-quickchart-complete:disabled:hover {\n",
              "    background-color: var(--disabled-bg-color);\n",
              "    fill: var(--disabled-fill-color);\n",
              "    box-shadow: none;\n",
              "  }\n",
              "\n",
              "  .colab-df-spinner {\n",
              "    border: 2px solid var(--fill-color);\n",
              "    border-color: transparent;\n",
              "    border-bottom-color: var(--fill-color);\n",
              "    animation:\n",
              "      spin 1s steps(1) infinite;\n",
              "  }\n",
              "\n",
              "  @keyframes spin {\n",
              "    0% {\n",
              "      border-color: transparent;\n",
              "      border-bottom-color: var(--fill-color);\n",
              "      border-left-color: var(--fill-color);\n",
              "    }\n",
              "    20% {\n",
              "      border-color: transparent;\n",
              "      border-left-color: var(--fill-color);\n",
              "      border-top-color: var(--fill-color);\n",
              "    }\n",
              "    30% {\n",
              "      border-color: transparent;\n",
              "      border-left-color: var(--fill-color);\n",
              "      border-top-color: var(--fill-color);\n",
              "      border-right-color: var(--fill-color);\n",
              "    }\n",
              "    40% {\n",
              "      border-color: transparent;\n",
              "      border-right-color: var(--fill-color);\n",
              "      border-top-color: var(--fill-color);\n",
              "    }\n",
              "    60% {\n",
              "      border-color: transparent;\n",
              "      border-right-color: var(--fill-color);\n",
              "    }\n",
              "    80% {\n",
              "      border-color: transparent;\n",
              "      border-right-color: var(--fill-color);\n",
              "      border-bottom-color: var(--fill-color);\n",
              "    }\n",
              "    90% {\n",
              "      border-color: transparent;\n",
              "      border-bottom-color: var(--fill-color);\n",
              "    }\n",
              "  }\n",
              "</style>\n",
              "\n",
              "  <script>\n",
              "    async function quickchart(key) {\n",
              "      const quickchartButtonEl =\n",
              "        document.querySelector('#' + key + ' button');\n",
              "      quickchartButtonEl.disabled = true;  // To prevent multiple clicks.\n",
              "      quickchartButtonEl.classList.add('colab-df-spinner');\n",
              "      try {\n",
              "        const charts = await google.colab.kernel.invokeFunction(\n",
              "            'suggestCharts', [key], {});\n",
              "      } catch (error) {\n",
              "        console.error('Error during call to suggestCharts:', error);\n",
              "      }\n",
              "      quickchartButtonEl.classList.remove('colab-df-spinner');\n",
              "      quickchartButtonEl.classList.add('colab-df-quickchart-complete');\n",
              "    }\n",
              "    (() => {\n",
              "      let quickchartButtonEl =\n",
              "        document.querySelector('#df-18efe53c-f9e6-4d65-8c3d-22894da46f69 button');\n",
              "      quickchartButtonEl.style.display =\n",
              "        google.colab.kernel.accessAllowed ? 'block' : 'none';\n",
              "    })();\n",
              "  </script>\n",
              "</div>\n",
              "    </div>\n",
              "  </div>\n"
            ],
            "application/vnd.google.colaboratory.intrinsic+json": {
              "type": "dataframe",
              "variable_name": "df",
              "summary": "{\n  \"name\": \"df\",\n  \"rows\": 86400,\n  \"fields\": [\n    {\n      \"column\": 0,\n      \"properties\": {\n        \"dtype\": \"number\",\n        \"std\": 24941,\n        \"min\": 0,\n        \"max\": 86399,\n        \"num_unique_values\": 86400,\n        \"samples\": [\n          43404,\n          78317,\n          6096\n        ],\n        \"semantic_type\": \"\",\n        \"description\": \"\"\n      }\n    },\n    {\n      \"column\": 1,\n      \"properties\": {\n        \"dtype\": \"number\",\n        \"std\": 48.11306787425952,\n        \"min\": 491.6,\n        \"max\": 812.9,\n        \"num_unique_values\": 1244,\n        \"samples\": [\n          625.6,\n          568.0,\n          641.5\n        ],\n        \"semantic_type\": \"\",\n        \"description\": \"\"\n      }\n    },\n    {\n      \"column\": 2,\n      \"properties\": {\n        \"dtype\": \"number\",\n        \"std\": 34.69458491644982,\n        \"min\": 205.6,\n        \"max\": 432.2,\n        \"num_unique_values\": 882,\n        \"samples\": [\n          281.1,\n          333.8,\n          272.0\n        ],\n        \"semantic_type\": \"\",\n        \"description\": \"\"\n      }\n    },\n    {\n      \"column\": 3,\n      \"properties\": {\n        \"dtype\": \"number\",\n        \"std\": 3.079839495286203,\n        \"min\": 69.6,\n        \"max\": 97.8,\n        \"num_unique_values\": 283,\n        \"samples\": [\n          96.9,\n          73.1,\n          83.8\n        ],\n        \"semantic_type\": \"\",\n        \"description\": \"\"\n      }\n    },\n    {\n      \"column\": 4,\n      \"properties\": {\n        \"dtype\": \"number\",\n        \"std\": 39.56015158996664,\n        \"min\": 198.5,\n        \"max\": 428.2,\n        \"num_unique_values\": 1719,\n        \"samples\": [\n          311.7,\n          389.5,\n          259.6\n        ],\n        \"semantic_type\": \"\",\n        \"description\": \"\"\n      }\n    },\n    {\n      \"column\": 5,\n      \"properties\": {\n        \"dtype\": \"number\",\n        \"std\": 6.474250461004933,\n        \"min\": 26.0,\n        \"max\": 100.0,\n        \"num_unique_values\": 479,\n        \"samples\": [\n          52.6,\n          29.6,\n          48.3\n        ],\n        \"semantic_type\": \"\",\n        \"description\": \"\"\n      }\n    },\n    {\n      \"column\": 6,\n      \"properties\": {\n        \"dtype\": \"number\",\n        \"std\": 5.742346795467685,\n        \"min\": 1.8,\n        \"max\": 67.6,\n        \"num_unique_values\": 486,\n        \"samples\": [\n          2.5,\n          60.9,\n          8.7\n        ],\n        \"semantic_type\": \"\",\n        \"description\": \"\"\n      }\n    },\n    {\n      \"column\": 7,\n      \"properties\": {\n        \"dtype\": \"number\",\n        \"std\": 2.183005598692672,\n        \"min\": 37.0,\n        \"max\": 94.7,\n        \"num_unique_values\": 398,\n        \"samples\": [\n          88.1,\n          41.3,\n          49.4\n        ],\n        \"semantic_type\": \"\",\n        \"description\": \"\"\n      }\n    },\n    {\n      \"column\": 8,\n      \"properties\": {\n        \"dtype\": \"number\",\n        \"std\": 0.7049286773040446,\n        \"min\": 125.6,\n        \"max\": 130.7,\n        \"num_unique_values\": 52,\n        \"samples\": [\n          127.9,\n          125.7,\n          130.3\n        ],\n        \"semantic_type\": \"\",\n        \"description\": \"\"\n      }\n    },\n    {\n      \"column\": 9,\n      \"properties\": {\n        \"dtype\": \"number\",\n        \"std\": 0.9331782824564979,\n        \"min\": 127.8,\n        \"max\": 134.6,\n        \"num_unique_values\": 69,\n        \"samples\": [\n          131.9,\n          133.4,\n          129.4\n        ],\n        \"semantic_type\": \"\",\n        \"description\": \"\"\n      }\n    },\n    {\n      \"column\": 10,\n      \"properties\": {\n        \"dtype\": \"number\",\n        \"std\": 0.621998550592369,\n        \"min\": 10.3,\n        \"max\": 14.2,\n        \"num_unique_values\": 39,\n        \"samples\": [\n          13.7,\n          14.0,\n          11.9\n        ],\n        \"semantic_type\": \"\",\n        \"description\": \"\"\n      }\n    },\n    {\n      \"column\": 11,\n      \"properties\": {\n        \"dtype\": \"number\",\n        \"std\": 2.6732179990728007,\n        \"min\": 17.6,\n        \"max\": 29.7,\n        \"num_unique_values\": 122,\n        \"samples\": [\n          25.4,\n          22.7,\n          22.5\n        ],\n        \"semantic_type\": \"\",\n        \"description\": \"\"\n      }\n    },\n    {\n      \"column\": 12,\n      \"properties\": {\n        \"dtype\": \"number\",\n        \"std\": 7.015711252371838,\n        \"min\": 41.1,\n        \"max\": 77.1,\n        \"num_unique_values\": 350,\n        \"samples\": [\n          60.3,\n          76.0,\n          73.4\n        ],\n        \"semantic_type\": \"\",\n        \"description\": \"\"\n      }\n    },\n    {\n      \"column\": 13,\n      \"properties\": {\n        \"dtype\": \"number\",\n        \"std\": 18.795636629907886,\n        \"min\": 184.2,\n        \"max\": 280.3,\n        \"num_unique_values\": 939,\n        \"samples\": [\n          253.9,\n          246.7,\n          243.9\n        ],\n        \"semantic_type\": \"\",\n        \"description\": \"\"\n      }\n    },\n    {\n      \"column\": 14,\n      \"properties\": {\n        \"dtype\": \"number\",\n        \"std\": 1.9765381400800515,\n        \"min\": 130.4,\n        \"max\": 140.7,\n        \"num_unique_values\": 104,\n        \"samples\": [\n          135.0,\n          132.8,\n          132.9\n        ],\n        \"semantic_type\": \"\",\n        \"description\": \"\"\n      }\n    },\n    {\n      \"column\": 15,\n      \"properties\": {\n        \"dtype\": \"number\",\n        \"std\": 8.323211820834395,\n        \"min\": 126.0,\n        \"max\": 181.1,\n        \"num_unique_values\": 547,\n        \"samples\": [\n          155.7,\n          171.7,\n          136.5\n        ],\n        \"semantic_type\": \"\",\n        \"description\": \"\"\n      }\n    },\n    {\n      \"column\": 16,\n      \"properties\": {\n        \"dtype\": \"number\",\n        \"std\": 1.2285198709512704,\n        \"min\": 126.6,\n        \"max\": 134.4,\n        \"num_unique_values\": 79,\n        \"samples\": [\n          130.0,\n          132.1,\n          130.8\n        ],\n        \"semantic_type\": \"\",\n        \"description\": \"\"\n      }\n    }\n  ]\n}"
            }
          },
          "metadata": {},
          "execution_count": 9
        }
      ]
    },
    {
      "cell_type": "code",
      "source": [
        "# Display information about the DataFrame\n",
        "df.info()"
      ],
      "metadata": {
        "colab": {
          "base_uri": "https://localhost:8080/"
        },
        "id": "zr6sKyk6YtSk",
        "outputId": "f29054b6-2d58-4046-bf90-81d5c67fdc35"
      },
      "execution_count": 10,
      "outputs": [
        {
          "output_type": "stream",
          "name": "stdout",
          "text": [
            "<class 'pandas.core.frame.DataFrame'>\n",
            "RangeIndex: 86400 entries, 0 to 86399\n",
            "Data columns (total 17 columns):\n",
            " #   Column  Non-Null Count  Dtype  \n",
            "---  ------  --------------  -----  \n",
            " 0   0       86400 non-null  int64  \n",
            " 1   1       86400 non-null  float64\n",
            " 2   2       86400 non-null  float64\n",
            " 3   3       86400 non-null  float64\n",
            " 4   4       86400 non-null  float64\n",
            " 5   5       86400 non-null  float64\n",
            " 6   6       86400 non-null  float64\n",
            " 7   7       86400 non-null  float64\n",
            " 8   8       86400 non-null  float64\n",
            " 9   9       86400 non-null  float64\n",
            " 10  10      86400 non-null  float64\n",
            " 11  11      86400 non-null  float64\n",
            " 12  12      86400 non-null  float64\n",
            " 13  13      86400 non-null  float64\n",
            " 14  14      86400 non-null  float64\n",
            " 15  15      86400 non-null  float64\n",
            " 16  16      86400 non-null  float64\n",
            "dtypes: float64(16), int64(1)\n",
            "memory usage: 11.2 MB\n"
          ]
        }
      ]
    },
    {
      "cell_type": "code",
      "source": [
        "df.shape"
      ],
      "metadata": {
        "colab": {
          "base_uri": "https://localhost:8080/"
        },
        "id": "GEj669oOY8M4",
        "outputId": "5d9ed0cd-7f03-460d-e5f4-6d6d77c5fa7f"
      },
      "execution_count": 11,
      "outputs": [
        {
          "output_type": "execute_result",
          "data": {
            "text/plain": [
              "(86400, 17)"
            ]
          },
          "metadata": {},
          "execution_count": 11
        }
      ]
    },
    {
      "cell_type": "code",
      "source": [
        "df.isnull().sum()\n",
        "# Remove rows with any null values\n",
        "# df.dropna(inplace=True)"
      ],
      "metadata": {
        "colab": {
          "base_uri": "https://localhost:8080/"
        },
        "id": "UAoyvKaHZd9H",
        "outputId": "8187fd68-6349-4c0d-bf57-b5521d7ff107"
      },
      "execution_count": 13,
      "outputs": [
        {
          "output_type": "execute_result",
          "data": {
            "text/plain": [
              "0     0\n",
              "1     0\n",
              "2     0\n",
              "3     0\n",
              "4     0\n",
              "5     0\n",
              "6     0\n",
              "7     0\n",
              "8     0\n",
              "9     0\n",
              "10    0\n",
              "11    0\n",
              "12    0\n",
              "13    0\n",
              "14    0\n",
              "15    0\n",
              "16    0\n",
              "dtype: int64"
            ]
          },
          "metadata": {},
          "execution_count": 13
        }
      ]
    },
    {
      "cell_type": "code",
      "source": [
        "df1 = pd.read_csv('/content/NOV17.csv', header=None)\n",
        "# Display information about the DataFrame\n",
        "df1.info()\n"
      ],
      "metadata": {
        "colab": {
          "base_uri": "https://localhost:8080/"
        },
        "id": "uqujqcrFaD9H",
        "outputId": "c950e190-5e83-4eba-a39a-715e021e3f0b"
      },
      "execution_count": 14,
      "outputs": [
        {
          "output_type": "stream",
          "name": "stdout",
          "text": [
            "<class 'pandas.core.frame.DataFrame'>\n",
            "RangeIndex: 86400 entries, 0 to 86399\n",
            "Data columns (total 17 columns):\n",
            " #   Column  Non-Null Count  Dtype  \n",
            "---  ------  --------------  -----  \n",
            " 0   0       86400 non-null  int64  \n",
            " 1   1       86400 non-null  float64\n",
            " 2   2       86400 non-null  float64\n",
            " 3   3       86400 non-null  float64\n",
            " 4   4       86400 non-null  float64\n",
            " 5   5       86400 non-null  float64\n",
            " 6   6       86400 non-null  float64\n",
            " 7   7       86400 non-null  float64\n",
            " 8   8       86400 non-null  float64\n",
            " 9   9       86400 non-null  float64\n",
            " 10  10      86400 non-null  float64\n",
            " 11  11      86400 non-null  float64\n",
            " 12  12      86400 non-null  float64\n",
            " 13  13      86400 non-null  float64\n",
            " 14  14      86400 non-null  float64\n",
            " 15  15      86400 non-null  float64\n",
            " 16  16      86400 non-null  float64\n",
            "dtypes: float64(16), int64(1)\n",
            "memory usage: 11.2 MB\n"
          ]
        }
      ]
    },
    {
      "cell_type": "code",
      "source": [
        "df1.isnull().sum()\n",
        "# Remove rows with any null values\n",
        "# df1.dropna(inplace=True)"
      ],
      "metadata": {
        "colab": {
          "base_uri": "https://localhost:8080/"
        },
        "id": "DB1VhHl2aPqX",
        "outputId": "d88c3482-3950-4113-83a3-affcd62a7483"
      },
      "execution_count": 15,
      "outputs": [
        {
          "output_type": "execute_result",
          "data": {
            "text/plain": [
              "0     0\n",
              "1     0\n",
              "2     0\n",
              "3     0\n",
              "4     0\n",
              "5     0\n",
              "6     0\n",
              "7     0\n",
              "8     0\n",
              "9     0\n",
              "10    0\n",
              "11    0\n",
              "12    0\n",
              "13    0\n",
              "14    0\n",
              "15    0\n",
              "16    0\n",
              "dtype: int64"
            ]
          },
          "metadata": {},
          "execution_count": 15
        }
      ]
    },
    {
      "cell_type": "code",
      "source": [
        "# Assign labels\n",
        "label_ranges = [(57274, 57549, 0), (58829, 58929, 1), (58519, 58624 , 1)]\n",
        "# Initialize a new column for the labels, filling with NaN or a default label if preferred\n",
        "df['Label'] = pd.NA  # Use NaN or another placeholder if no label should be default\n",
        "\n",
        "# Apply labels based on the defined ranges\n",
        "for start, end, label in label_ranges:\n",
        "    df.loc[start:end, 'Label'] = label\n",
        "\n",
        "print(df['Label'].value_counts(dropna=False))  # Check how many of each label, including NaN\n",
        "labeled_df = df.dropna(subset=['Label'])\n",
        "print(labeled_df.head())\n",
        "labeled_df.shape"
      ],
      "metadata": {
        "colab": {
          "base_uri": "https://localhost:8080/"
        },
        "id": "cN9OHSBPd5g5",
        "outputId": "7714604f-15ff-4709-dd47-7ede903773cb"
      },
      "execution_count": 23,
      "outputs": [
        {
          "output_type": "stream",
          "name": "stdout",
          "text": [
            "Label\n",
            "<NA>    85917\n",
            "0         276\n",
            "1         207\n",
            "Name: count, dtype: int64\n",
            "           0      1      2     3      4     5     6     7      8      9    10  \\\n",
            "57274  57274  649.6  348.5  96.8  362.6  34.8  33.7  46.7  127.9  131.9  13.2   \n",
            "57275  57275  649.3  359.5  96.8  362.9  34.8  32.9  46.5  127.8  131.9  13.2   \n",
            "57276  57276  650.1  352.6  96.8  363.0  34.6  33.6  46.7  127.8  131.8  13.2   \n",
            "57277  57277  648.6  361.2  96.9  364.5  34.9  33.5  46.9  127.9  131.8  13.2   \n",
            "57278  57278  646.9  357.8  96.9  365.1  35.3  32.8  46.9  127.8  131.9  13.2   \n",
            "\n",
            "         11    12     13     14     15     16 Label  \n",
            "57274  20.5  68.3  271.9  139.9  168.7  133.0     0  \n",
            "57275  20.5  68.8  272.0  139.9  168.8  133.0     0  \n",
            "57276  20.6  65.9  271.8  139.9  168.9  133.0     0  \n",
            "57277  20.7  69.1  272.1  139.9  168.7  133.0     0  \n",
            "57278  20.9  68.6  272.1  139.9  168.9  133.0     0  \n"
          ]
        },
        {
          "output_type": "execute_result",
          "data": {
            "text/plain": [
              "(483, 18)"
            ]
          },
          "metadata": {},
          "execution_count": 23
        }
      ]
    },
    {
      "cell_type": "code",
      "source": [
        "# Assign labels\n",
        "label_ranges1 = [(56669, 56769, 0), (54599, 54699, 1)]\n",
        "# Initialize a new column for the labels, filling with NaN or a default label if preferred\n",
        "df1['Label'] = pd.NA  # Use NaN or another placeholder if no label should be default\n",
        "\n",
        "# Apply labels based on the defined ranges\n",
        "for start, end, label in label_ranges1:\n",
        "    df1.loc[start:end, 'Label'] = label\n",
        "labeled_df1 = df1.dropna(subset=['Label'])\n",
        "print(labeled_df1.head())\n",
        "labeled_df1.shape"
      ],
      "metadata": {
        "colab": {
          "base_uri": "https://localhost:8080/"
        },
        "id": "tanTyw2WhT_X",
        "outputId": "7297c724-2ecc-4e04-c031-e0a42de1b32f"
      },
      "execution_count": 25,
      "outputs": [
        {
          "output_type": "stream",
          "name": "stdout",
          "text": [
            "           0      1      2     3      4     5     6     7      8      9    10  \\\n",
            "54599  54599  630.8  372.6  96.9  372.2  33.5  31.2  46.2  128.7  132.4  13.1   \n",
            "54600  54600  643.5  360.7  96.9  371.8  33.8  32.4  45.9  128.7  132.4  13.1   \n",
            "54601  54601  640.8  366.8  96.9  368.0  33.4  33.4  45.7  128.7  132.4  13.1   \n",
            "54602  54602  640.3  370.7  96.9  366.7  33.1  33.4  45.6  128.7  132.4  13.1   \n",
            "54603  54603  633.7  376.6  96.9  367.0  32.8  31.8  45.8  128.7  132.4  13.1   \n",
            "\n",
            "         11    12     13     14     15     16 Label  \n",
            "54599  20.9  66.3  276.4  140.3  173.7  133.5     1  \n",
            "54600  20.8  66.7  276.0  140.3  174.1  133.5     1  \n",
            "54601  20.7  65.5  275.9  140.3  173.8  133.5     1  \n",
            "54602  20.7  65.3  275.9  140.3  173.9  133.5     1  \n",
            "54603  20.7  65.8  275.9  140.3  174.0  133.5     1  \n"
          ]
        },
        {
          "output_type": "execute_result",
          "data": {
            "text/plain": [
              "(202, 18)"
            ]
          },
          "metadata": {},
          "execution_count": 25
        }
      ]
    },
    {
      "cell_type": "code",
      "source": [
        "X = labeled_df.drop('Label', axis=1)  # Drop the label column to get features\n",
        "y = labeled_df['Label']  # Extract the label column\n",
        "\n",
        "# Display the first few rows of X and y to verify\n",
        "print(\"Features (X):\")\n",
        "print(X.head())\n",
        "print(\"\\nLabels (y):\")\n",
        "print(y)"
      ],
      "metadata": {
        "colab": {
          "base_uri": "https://localhost:8080/"
        },
        "id": "ZlOwaoHWiAuI",
        "outputId": "9c67d1b1-f99d-4ab1-c4e4-cab4dca354bb"
      },
      "execution_count": 29,
      "outputs": [
        {
          "output_type": "stream",
          "name": "stdout",
          "text": [
            "Features (X):\n",
            "           0      1      2     3      4     5     6     7      8      9    10  \\\n",
            "57274  57274  649.6  348.5  96.8  362.6  34.8  33.7  46.7  127.9  131.9  13.2   \n",
            "57275  57275  649.3  359.5  96.8  362.9  34.8  32.9  46.5  127.8  131.9  13.2   \n",
            "57276  57276  650.1  352.6  96.8  363.0  34.6  33.6  46.7  127.8  131.8  13.2   \n",
            "57277  57277  648.6  361.2  96.9  364.5  34.9  33.5  46.9  127.9  131.8  13.2   \n",
            "57278  57278  646.9  357.8  96.9  365.1  35.3  32.8  46.9  127.8  131.9  13.2   \n",
            "\n",
            "         11    12     13     14     15     16  \n",
            "57274  20.5  68.3  271.9  139.9  168.7  133.0  \n",
            "57275  20.5  68.8  272.0  139.9  168.8  133.0  \n",
            "57276  20.6  65.9  271.8  139.9  168.9  133.0  \n",
            "57277  20.7  69.1  272.1  139.9  168.7  133.0  \n",
            "57278  20.9  68.6  272.1  139.9  168.9  133.0  \n",
            "\n",
            "Labels (y):\n",
            "57274    0\n",
            "57275    0\n",
            "57276    0\n",
            "57277    0\n",
            "57278    0\n",
            "        ..\n",
            "58925    1\n",
            "58926    1\n",
            "58927    1\n",
            "58928    1\n",
            "58929    1\n",
            "Name: Label, Length: 483, dtype: object\n"
          ]
        }
      ]
    },
    {
      "cell_type": "code",
      "source": [
        "X1 = labeled_df1.drop('Label', axis=1)  # Drop the label column to get features\n",
        "y1 = labeled_df1['Label']  # Extract the label column\n",
        "\n",
        "# Display the first few rows of X and y to verify\n",
        "print(\"Features (X):\")\n",
        "print(X1.head())\n",
        "print(\"\\nLabels (y):\")\n",
        "print(y1)"
      ],
      "metadata": {
        "colab": {
          "base_uri": "https://localhost:8080/"
        },
        "id": "jTgDwylfll9I",
        "outputId": "ec1d85dc-c3f8-4c2b-c463-06dc20fc4e12"
      },
      "execution_count": 136,
      "outputs": [
        {
          "output_type": "stream",
          "name": "stdout",
          "text": [
            "Features (X):\n",
            "           0      2      4     5     6     7      8      9    10    11    12  \\\n",
            "54599  54599  372.6  372.2  33.5  31.2  46.2  128.7  132.4  13.1  20.9  66.3   \n",
            "54600  54600  360.7  371.8  33.8  32.4  45.9  128.7  132.4  13.1  20.8  66.7   \n",
            "54601  54601  366.8  368.0  33.4  33.4  45.7  128.7  132.4  13.1  20.7  65.5   \n",
            "54602  54602  370.7  366.7  33.1  33.4  45.6  128.7  132.4  13.1  20.7  65.3   \n",
            "54603  54603  376.6  367.0  32.8  31.8  45.8  128.7  132.4  13.1  20.7  65.8   \n",
            "\n",
            "          13     14     15     16  \n",
            "54599  276.4  140.3  173.7  133.5  \n",
            "54600  276.0  140.3  174.1  133.5  \n",
            "54601  275.9  140.3  173.8  133.5  \n",
            "54602  275.9  140.3  173.9  133.5  \n",
            "54603  275.9  140.3  174.0  133.5  \n",
            "\n",
            "Labels (y):\n",
            "54599    1\n",
            "54600    1\n",
            "54601    1\n",
            "54602    1\n",
            "54603    1\n",
            "        ..\n",
            "56765    0\n",
            "56766    0\n",
            "56767    0\n",
            "56768    0\n",
            "56769    0\n",
            "Name: Label, Length: 202, dtype: object\n"
          ]
        }
      ]
    },
    {
      "cell_type": "code",
      "source": [
        "import pandas as pd\n",
        "import numpy as np\n",
        "from imblearn.under_sampling import RandomUnderSampler\n",
        "df = df.drop(df.columns[0], axis=1)\n",
        "# Define the index ranges and corresponding labels\n",
        "label_ranges = [(57274, 57549, 0), (58829, 58929, 1), (58519, 58624 , 1)]\n",
        "\n",
        "# Initialize a new column for labels with default values (NaN)\n",
        "df['Label'] = pd.NA\n",
        "\n",
        "# Apply labels based on the defined ranges\n",
        "for start, end, label in label_ranges:\n",
        "    df.loc[start:end, 'Label'] = label\n",
        "\n",
        "# Filter only labeled data\n",
        "labeled_df = df.dropna(subset=['Label'])\n",
        "\n",
        "# Split data into features (X) and labels (y)\n",
        "X = labeled_df.drop('Label', axis=1)\n",
        "y = labeled_df['Label'].astype(int)  # Ensure y is of integer type\n",
        "\n",
        "# Count the number of samples in each class before balancing\n",
        "unique, counts = np.unique(y, return_counts=True)\n",
        "print(\"Class counts before balancing:\", dict(zip(unique, counts)))\n",
        "\n",
        "# Use RandomUnderSampler to balance the classes\n",
        "rus = RandomUnderSampler(random_state=64)\n",
        "X_resampled, y_resampled = rus.fit_resample(X, y)\n",
        "\n",
        "# Count the number of samples in each class after balancing\n",
        "unique_resampled, counts_resampled = np.unique(y_resampled, return_counts=True)\n",
        "print(\"Class counts after balancing:\", dict(zip(unique_resampled, counts_resampled)))\n",
        "\n",
        "# Print the shape of the new balanced dataset\n",
        "print(\"\\nNew balanced dataset shape:\", X_resampled.shape, y_resampled.shape)\n"
      ],
      "metadata": {
        "colab": {
          "base_uri": "https://localhost:8080/"
        },
        "id": "g9CDF03Cl7pp",
        "outputId": "68f3be25-2534-4cac-fc82-ac1da5fbc848"
      },
      "execution_count": 137,
      "outputs": [
        {
          "output_type": "stream",
          "name": "stdout",
          "text": [
            "Class counts before balancing: {0: 276, 1: 207}\n",
            "Class counts after balancing: {0: 207, 1: 207}\n",
            "\n",
            "New balanced dataset shape: (414, 13) (414,)\n"
          ]
        }
      ]
    },
    {
      "cell_type": "code",
      "source": [
        "import pandas as pd\n",
        "import numpy as np\n",
        "from imblearn.under_sampling import RandomUnderSampler\n",
        "df1 = df1.drop(df.columns[0], axis=1)\n",
        "# Define the index ranges and corresponding labels\n",
        "label_ranges1 = [(56669, 56769, 0), (54599, 54699, 1)]\n",
        "\n",
        "# Initialize a new column for labels with default values (NaN)\n",
        "df1['Label'] = pd.NA\n",
        "\n",
        "# Apply labels based on the defined ranges\n",
        "for start, end, label in label_ranges1:\n",
        "    df1.loc[start:end, 'Label'] = label\n",
        "\n",
        "# Filter only labeled data\n",
        "labeled_df1 = df1.dropna(subset=['Label'])\n",
        "\n",
        "# Split data into features (X) and labels (y)\n",
        "X1 = labeled_df1.drop('Label', axis=1)\n",
        "y1 = labeled_df1['Label'].astype(int)  # Ensure y is of integer type\n",
        "\n",
        "# Count the number of samples in each class before balancing\n",
        "unique, counts = np.unique(y1, return_counts=True)\n",
        "print(\"Class counts before balancing:\", dict(zip(unique, counts)))\n",
        "\n",
        "# Use RandomUnderSampler to balance the classes\n",
        "rus = RandomUnderSampler(random_state=64)\n",
        "X_resampled1, y_resampled1 = rus.fit_resample(X1, y1)\n",
        "\n",
        "# Count the number of samples in each class after balancing\n",
        "unique_resampled, counts_resampled = np.unique(y_resampled1, return_counts=True)\n",
        "print(\"Class counts after balancing:\", dict(zip(unique_resampled, counts_resampled)))\n",
        "\n",
        "# Print the shape of the new balanced dataset\n",
        "print(\"\\nNew balanced dataset shape:\", X_resampled1.shape, y_resampled1.shape)"
      ],
      "metadata": {
        "colab": {
          "base_uri": "https://localhost:8080/"
        },
        "id": "0L-v1xk6mUe6",
        "outputId": "c3ad2933-5569-4644-e1b2-f294922f8869"
      },
      "execution_count": 138,
      "outputs": [
        {
          "output_type": "stream",
          "name": "stdout",
          "text": [
            "Class counts before balancing: {0: 101, 1: 101}\n",
            "Class counts after balancing: {0: 101, 1: 101}\n",
            "\n",
            "New balanced dataset shape: (202, 14) (202,)\n"
          ]
        }
      ]
    },
    {
      "cell_type": "markdown",
      "source": [
        "#Q2"
      ],
      "metadata": {
        "id": "Ko1z6fslz1hC"
      }
    },
    {
      "cell_type": "code",
      "source": [
        "mean_values = np.mean(X_resampled, axis=1)\n",
        "std_dev_values = np.std(X_resampled, axis=1)\n",
        "rms_value = np.sqrt(np.mean(X_resampled**2, axis=1))\n",
        "crest_factor = peak_values / rms_value\n",
        "Abs_Mean_value=np.mean(np.abs(X_resampled), axis=1)\n",
        "Impulse_Factor=peak_values/Abs_Mean_value\n",
        "label= y_resampled\n",
        "\n",
        "# Concatenate mean and standard deviation as features\n",
        "features = np.column_stack((mean_values, std_dev_values, peak_values, rms_value, crest_factor, Abs_Mean_value, Impulse_Factor))\n",
        "# Create DataFrame\n",
        "Data = pd.DataFrame(features, columns=['Mean', 'Standard Deviation','Peak', 'RMS', 'Crest Factor', 'Absolute Mean', 'Impulse Factor'])\n",
        "print(Data)"
      ],
      "metadata": {
        "colab": {
          "base_uri": "https://localhost:8080/"
        },
        "id": "bq8fL7lNpg8R",
        "outputId": "a5ac81d5-8024-4e43-ac21-de76aab8bc29"
      },
      "execution_count": 139,
      "outputs": [
        {
          "output_type": "stream",
          "name": "stdout",
          "text": [
            "           Mean  Standard Deviation   Peak         RMS  Crest Factor  \\\n",
            "0    129.853846          110.141752  495.0  170.273976      2.907080   \n",
            "1    130.069231          101.413407  608.1  164.932361      3.686966   \n",
            "2    129.861538          100.123251  611.7  163.977695      3.730385   \n",
            "3    121.046154          103.320894  616.4  159.145777      3.873178   \n",
            "4    130.015385          109.176553  502.8  169.774910      2.961568   \n",
            "..          ...                 ...    ...         ...           ...   \n",
            "409  123.492308           88.485839  711.4  151.921341      4.682686   \n",
            "410  122.169231           85.833940  720.6  149.307690      4.826275   \n",
            "411  121.046154           82.941449  739.2  146.736006      5.037618   \n",
            "412  119.930769           81.246589  753.6  144.859924      5.202267   \n",
            "413  118.838462           79.353712  776.8  142.897136      5.436078   \n",
            "\n",
            "     Absolute Mean  Impulse Factor  \n",
            "0       129.853846        3.811978  \n",
            "1       130.069231        4.675203  \n",
            "2       129.861538        4.710402  \n",
            "3       121.046154        5.092272  \n",
            "4       130.015385        3.867235  \n",
            "..             ...             ...  \n",
            "409     123.492308        5.760683  \n",
            "410     122.169231        5.898376  \n",
            "411     121.046154        6.106762  \n",
            "412     119.930769        6.283625  \n",
            "413     118.838462        6.536604  \n",
            "\n",
            "[414 rows x 7 columns]\n"
          ]
        }
      ]
    },
    {
      "cell_type": "code",
      "source": [
        "#create features\n",
        "mean_values1 = np.mean(X_resampled1, axis=1)\n",
        "std_dev_values1 = np.std(X_resampled1, axis=1)\n",
        "peak_values1 = np.max(np.abs(X_resampled1), axis=1)\n",
        "rms_value1 = np.sqrt(np.mean(X_resampled1**2, axis=1))\n",
        "crest_factor1 = peak_values1 / rms_value1\n",
        "Abs_Mean_value1=np.mean(np.abs(X_resampled1), axis=1)\n",
        "Impulse_Factor1=peak_values1/Abs_Mean_value1\n",
        "label1= y_resampled1\n",
        "# Concatenate mean and standard deviation as features\n",
        "features1 = np.column_stack((mean_values1, std_dev_values1, peak_values1, rms_value1, crest_factor1, Abs_Mean_value1, Impulse_Factor1))\n",
        "# Create DataFrame\n",
        "Data_Test = pd.DataFrame(features1, columns=['Mean1', 'Standard Deviation1','Peak1', 'RMS1', 'Crest Factor1', 'Absolute Mean1', 'Impulse Factor1'])\n",
        "print(Data_Test)"
      ],
      "metadata": {
        "colab": {
          "base_uri": "https://localhost:8080/"
        },
        "id": "UFpZRFlRntpB",
        "outputId": "83248903-3019-4030-ed8a-c860e6b89c0b"
      },
      "execution_count": 140,
      "outputs": [
        {
          "output_type": "stream",
          "name": "stdout",
          "text": [
            "           Mean1  Standard Deviation1    Peak1          RMS1  Crest Factor1  \\\n",
            "0    4157.514286         14564.367122  56669.0  15146.145209       3.741480   \n",
            "1    4158.335714         14564.426927  56670.0  15146.428213       3.741476   \n",
            "2    4157.757143         14564.853690  56671.0  15146.679751       3.741480   \n",
            "3    4158.050000         14565.050588  56672.0  15146.949476       3.741479   \n",
            "4    4157.950000         14565.352593  56673.0  15147.212428       3.741481   \n",
            "..           ...                  ...      ...           ...            ...   \n",
            "197  4017.421429         14052.719376  54684.0  14615.696931       3.741457   \n",
            "198  4014.142857         14044.172986  54650.0  14606.578578       3.741465   \n",
            "199  4014.635714         14044.880380  54653.0  14607.394183       3.741461   \n",
            "200  4014.807143         14040.419356  54637.0  14603.152129       3.741452   \n",
            "201  4015.571429         14048.500243  54667.0  14611.131817       3.741462   \n",
            "\n",
            "     Absolute Mean1  Impulse Factor1  \n",
            "0       4157.514286        13.630500  \n",
            "1       4158.335714        13.628048  \n",
            "2       4157.757143        13.630185  \n",
            "3       4158.050000        13.629466  \n",
            "4       4157.950000        13.630034  \n",
            "..              ...              ...  \n",
            "197     4017.421429        13.611716  \n",
            "198     4014.142857        13.614364  \n",
            "199     4014.635714        13.613439  \n",
            "200     4014.807143        13.608873  \n",
            "201     4015.571429        13.613754  \n",
            "\n",
            "[202 rows x 7 columns]\n"
          ]
        }
      ]
    },
    {
      "cell_type": "code",
      "source": [
        "datalabel=np.column_stack((mean_values, std_dev_values, peak_values, rms_value, crest_factor, Abs_Mean_value, Impulse_Factor,label))\n",
        "Data_labeled = pd.DataFrame(datalabel, columns=['Mean', 'Standard Deviation','Peak', 'RMS', 'Crest Factor', 'Absolute Mean', 'Impulse Factor','label'])\n",
        "np.random.seed(64)\n",
        "np.random.shuffle(Data_labeled.values)\n",
        "\n",
        "# Remove the header from the variables\n",
        "data = Data.values\n",
        "label = y_resampled\n",
        "# Split the data into train/validation/test sets\n",
        "x_train, x_test, y_train, y_test = train_test_split(data, label, test_size=0.2, random_state=64)\n",
        "# Print shape of each set\n",
        "print(f\"train_data shape: {x_train.shape}\")\n",
        "\n",
        "print(f\"test_data shape: {x_test.shape}\")\n",
        "print(f\"train_label shape: {y_train.shape}\")\n",
        "\n",
        "print(f\"test_label shape: {y_test.shape}\")"
      ],
      "metadata": {
        "colab": {
          "base_uri": "https://localhost:8080/"
        },
        "id": "6ZrKukmEqUN2",
        "outputId": "d0572d80-3d49-4912-b7ac-ca5964d3694c"
      },
      "execution_count": 141,
      "outputs": [
        {
          "output_type": "stream",
          "name": "stdout",
          "text": [
            "train_data shape: (331, 7)\n",
            "test_data shape: (83, 7)\n",
            "train_label shape: (331,)\n",
            "test_label shape: (83,)\n"
          ]
        }
      ]
    },
    {
      "cell_type": "code",
      "source": [
        "# Scale the data using MinMaxScaler\n",
        "scaler = MinMaxScaler()\n",
        "train_data = scaler.fit_transform(x_train)\n",
        "test_data = scaler.transform(x_test)"
      ],
      "metadata": {
        "id": "AHULRw6wxCIP"
      },
      "execution_count": 142,
      "outputs": []
    },
    {
      "cell_type": "code",
      "source": [
        "datalabel1=np.column_stack((mean_values1, std_dev_values1, peak_values1, rms_value1, crest_factor1, Abs_Mean_value1, Impulse_Factor1,label1))\n",
        "Data_labeled1 = pd.DataFrame(datalabel1, columns=['Mean1', 'Standard Deviation1','Peak1', 'RMS1', 'Crest Factor1', 'Absolute Mean1', 'Impulse Factor1','label1'])\n",
        "data1 = Data_Test.values\n",
        "label1 = y_resampled1\n",
        "val_data = scaler.transform(data1)"
      ],
      "metadata": {
        "id": "LpOJqotExYOX"
      },
      "execution_count": 143,
      "outputs": []
    },
    {
      "cell_type": "code",
      "source": [
        "import pandas as pd\n",
        "import seaborn as sns\n",
        "import matplotlib.pyplot as plt\n",
        "\n",
        "# Read CSV file into DataFrame\n",
        "\n",
        "# Calculate correlation matrix\n",
        "corr_matrix = Data_labeled.corr()\n",
        "\n",
        "# Create heatmap using seaborn\n",
        "plt.figure(figsize=(25,25))\n",
        "sns.heatmap(corr_matrix, annot=True, cmap='coolwarm', linewidths=0.5, annot_kws={\"size\": 8}, fmt='.3f', yticklabels=corr_matrix.columns)\n",
        "\n",
        "# Adjust font size of annotations\n",
        "plt.xticks(fontsize=12)\n",
        "plt.yticks(fontsize=12)\n",
        "\n",
        "# Adjust margins of PDF file\n",
        "plt.savefig('PIcS1.pdf', bbox_inches='tight')"
      ],
      "metadata": {
        "colab": {
          "base_uri": "https://localhost:8080/",
          "height": 1000
        },
        "id": "p-a35boy0CQD",
        "outputId": "9ef2969e-9e94-4ffb-d723-b749dca94558"
      },
      "execution_count": 144,
      "outputs": [
        {
          "output_type": "display_data",
          "data": {
            "text/plain": [
              "<Figure size 2500x2500 with 2 Axes>"
            ],
            "image/png": "[encoded data removed]"
          },
          "metadata": {}
        }
      ]
    },
    {
      "cell_type": "code",
      "source": [
        "from sklearn.neural_network import MLPClassifier\n",
        "from sklearn.metrics import confusion_matrix, classification_report\n",
        "import seaborn as sns\n",
        "import matplotlib.pyplot as plt\n",
        "import numpy as np\n",
        "\n",
        "# Assuming you've trained your model already\n",
        "model = MLPClassifier(hidden_layer_sizes=(50,25), random_state=12)\n",
        "model.fit(x_train, y_train)\n",
        "\n",
        "# Making predictions on the test set\n",
        "y_pred = model.predict(x_test)\n",
        "\n",
        "# Calculating confusion matrix\n",
        "cf_matrix = confusion_matrix(y_test, y_pred)\n",
        "\n",
        "# Calculating percentages for each cell\n",
        "cf_matrix_percent = cf_matrix.astype('float') / cf_matrix.sum(axis=1)[:, np.newaxis] * 100\n",
        "\n",
        "# Plotting confusion matrix as a heatmap with percentages\n",
        "plt.figure(figsize=(8, 6))\n",
        "sns.heatmap(cf_matrix_percent, annot=True, fmt='.2f', cmap='Blues', annot_kws={\"size\": 12})\n",
        "\n",
        "# Get the axis to modify layout\n",
        "plt.gca().set_ylim(len(np.unique(y_test)), 0)  # Fix for matplotlib 3.1.1 and 3.1.2\n",
        "plt.title('Confusion Matrix (%)')\n",
        "plt.xlabel('Predicted labels')\n",
        "plt.ylabel('True labels')\n",
        "\n",
        "# Save the plot as PNG\n",
        "plt.tight_layout()\n",
        "plt.savefig('confusion_matrix_percentage.png', dpi=300)\n",
        "plt.show()\n",
        "\n",
        "# Printing classification report\n",
        "print(\"Classification Report:\")\n",
        "print(classification_report(y_test, y_pred))"
      ],
      "metadata": {
        "colab": {
          "base_uri": "https://localhost:8080/",
          "height": 781
        },
        "id": "jbkTFg6Ryvw4",
        "outputId": "f1d7932b-ce59-49a2-aa78-71a2f633e3a7"
      },
      "execution_count": 145,
      "outputs": [
        {
          "output_type": "display_data",
          "data": {
            "text/plain": [
              "<Figure size 800x600 with 2 Axes>"
            ],
            "image/png": "[encoded data removed]"
          },
          "metadata": {}
        },
        {
          "output_type": "stream",
          "name": "stdout",
          "text": [
            "Classification Report:\n",
            "              precision    recall  f1-score   support\n",
            "\n",
            "           0       0.89      0.83      0.86        41\n",
            "           1       0.84      0.90      0.87        42\n",
            "\n",
            "    accuracy                           0.87        83\n",
            "   macro avg       0.87      0.87      0.87        83\n",
            "weighted avg       0.87      0.87      0.87        83\n",
            "\n"
          ]
        }
      ]
    },
    {
      "cell_type": "code",
      "source": [
        "datalabel1=np.column_stack((mean_values1, std_dev_values1, peak_values1, rms_value1, crest_factor1, Abs_Mean_value1, Impulse_Factor1,label1))\n",
        "Data_labeled1 = pd.DataFrame(datalabel1, columns=['Mean1', 'Standard Deviation1','Peak1', 'RMS1', 'Crest Factor1', 'Absolute Mean1', 'Impulse Factor1','label1'])\n",
        "data1 = Data_Test.values\n",
        "label1 = y_resampled1\n",
        "val_data = scaler.transform(data1)\n",
        "\n",
        "y_pred1 = model.predict(val_data)\n",
        "cf_matrix = confusion_matrix(label1, y_pred1)\n",
        "\n",
        "# Calculating percentages for each cell\n",
        "cf_matrix_percent = cf_matrix.astype('float') / cf_matrix.sum(axis=1)[:, np.newaxis] * 100\n",
        "\n",
        "# Plotting confusion matrix as a heatmap with percentages\n",
        "plt.figure(figsize=(8, 6))\n",
        "sns.heatmap(cf_matrix_percent, annot=True, fmt='.2f', cmap='Blues', annot_kws={\"size\": 12})\n",
        "\n",
        "# Get the axis to modify layout\n",
        "plt.gca().set_ylim(len(np.unique(label1)), 0)  # Fix for matplotlib 3.1.1 and 3.1.2\n",
        "plt.title('Confusion Matrix (%)')\n",
        "plt.xlabel('Predicted labels')\n",
        "plt.ylabel('True labels')\n",
        "\n",
        "# Save the plot as PNG\n",
        "plt.tight_layout()\n",
        "plt.savefig('confusion_matrix_percentage.png', dpi=300)\n",
        "plt.show()\n",
        "\n",
        "# Printing classification report\n",
        "print(\"Classification Report:\")\n",
        "print(classification_report(label1, y_pred1))"
      ],
      "metadata": {
        "colab": {
          "base_uri": "https://localhost:8080/",
          "height": 905
        },
        "id": "v2YnOk-K4YyX",
        "outputId": "b204866f-0e67-4a20-cae8-cf1ced364478"
      },
      "execution_count": 146,
      "outputs": [
        {
          "output_type": "display_data",
          "data": {
            "text/plain": [
              "<Figure size 800x600 with 2 Axes>"
            ],
            "image/png": "[encoded data removed]"
          },
          "metadata": {}
        },
        {
          "output_type": "stream",
          "name": "stdout",
          "text": [
            "Classification Report:\n",
            "              precision    recall  f1-score   support\n",
            "\n",
            "           0       0.50      1.00      0.67       101\n",
            "           1       0.00      0.00      0.00       101\n",
            "\n",
            "    accuracy                           0.50       202\n",
            "   macro avg       0.25      0.50      0.33       202\n",
            "weighted avg       0.25      0.50      0.33       202\n",
            "\n"
          ]
        },
        {
          "output_type": "stream",
          "name": "stderr",
          "text": [
            "/usr/local/lib/python3.10/dist-packages/sklearn/metrics/_classification.py:1344: UndefinedMetricWarning: Precision and F-score are ill-defined and being set to 0.0 in labels with no predicted samples. Use `zero_division` parameter to control this behavior.\n",
            "  _warn_prf(average, modifier, msg_start, len(result))\n",
            "/usr/local/lib/python3.10/dist-packages/sklearn/metrics/_classification.py:1344: UndefinedMetricWarning: Precision and F-score are ill-defined and being set to 0.0 in labels with no predicted samples. Use `zero_division` parameter to control this behavior.\n",
            "  _warn_prf(average, modifier, msg_start, len(result))\n",
            "/usr/local/lib/python3.10/dist-packages/sklearn/metrics/_classification.py:1344: UndefinedMetricWarning: Precision and F-score are ill-defined and being set to 0.0 in labels with no predicted samples. Use `zero_division` parameter to control this behavior.\n",
            "  _warn_prf(average, modifier, msg_start, len(result))\n"
          ]
        }
      ]
    },
    {
      "cell_type": "code",
      "source": [
        "data1 = Data_Test.values\n",
        "label1 = y_resampled1\n",
        "val_data = scaler.transform(data1)\n",
        "y_pred1 = model.predict(val_data)\n",
        "\n",
        "# Calculating confusion matrix\n",
        "cf_matrix = confusion_matrix(label1, y_pred1)\n",
        "\n",
        "# Calculating percentages for each cell\n",
        "cf_matrix_percent = cf_matrix.astype('float') / cf_matrix.sum(axis=1)[:, np.newaxis] * 100\n",
        "\n",
        "# Plotting confusion matrix as a heatmap with percentages\n",
        "plt.figure(figsize=(8, 6))\n",
        "sns.heatmap(cf_matrix_percent, annot=True, fmt='.2f', cmap='Blues', annot_kws={\"size\": 12})\n",
        "\n",
        "# Get the axis to modify layout\n",
        "plt.gca().set_ylim(len(np.unique(label1)), 0)  # Fix for matplotlib 3.1.1 and 3.1.2\n",
        "plt.title('Confusion Matrix (%)')\n",
        "plt.xlabel('Predicted labels')\n",
        "plt.ylabel('True labels')\n",
        "\n",
        "# Save the plot as PNG\n",
        "plt.tight_layout()\n",
        "plt.savefig('confusion_matrix_percentage.png', dpi=300)\n",
        "plt.show()\n",
        "\n",
        "# Printing classification report\n",
        "print(\"Classification Report:\")\n",
        "print(classification_report(label1, y_pred1))"
      ],
      "metadata": {
        "colab": {
          "base_uri": "https://localhost:8080/",
          "height": 763
        },
        "id": "M2uuSEh_6TuX",
        "outputId": "52d76e0d-b371-4ec0-be78-e6e1254f7a1e"
      },
      "execution_count": 135,
      "outputs": [
        {
          "output_type": "display_data",
          "data": {
            "text/plain": [
              "<Figure size 800x600 with 2 Axes>"
            ],
            "image/png": "[encoded data removed]"
          },
          "metadata": {}
        },
        {
          "output_type": "stream",
          "name": "stdout",
          "text": [
            "Classification Report:\n",
            "              precision    recall  f1-score   support\n",
            "\n",
            "           0       1.00      1.00      1.00       202\n",
            "\n",
            "    accuracy                           1.00       202\n",
            "   macro avg       1.00      1.00      1.00       202\n",
            "weighted avg       1.00      1.00      1.00       202\n",
            "\n"
          ]
        }
      ]
    }
  ]
}