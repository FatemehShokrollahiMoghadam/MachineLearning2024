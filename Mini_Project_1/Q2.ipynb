{
  "cells": [
    {
      "cell_type": "markdown",
      "metadata": {
        "id": "PgyPPXneuPj8"
      },
      "source": [
        "#2-1"
      ]
    },
    {
      "cell_type": "code",
      "execution_count": null,
      "metadata": {
        "colab": {
          "base_uri": "https://localhost:8080/"
        },
        "id": "_WXeGKma53hb",
        "outputId": "7c61e08c-6027-4bc8-b9cc-a6faaea6c6fc"
      },
      "outputs": [
        {
          "output_type": "stream",
          "name": "stdout",
          "text": [
            "Mounted at /content/drive\n"
          ]
        }
      ],
      "source": [
        "from google.colab import drive\n",
        "drive.mount('/content/drive')"
      ]
    },
    {
      "cell_type": "markdown",
      "metadata": {
        "id": "tWhh96aWEtP6"
      },
      "source": [
        "https://drive.google.com/file/d/1jYW2zOSeXrdsVjhE4Q6G00ycijek8xPm/view?usp=sharing\n",
        "https://drive.google.com/file/d/1PulhFyTnR1H5XlUqDvjSAO5Y8_YcCakC/view?usp=sharing"
      ]
    },
    {
      "cell_type": "code",
      "execution_count": null,
      "metadata": {
        "colab": {
          "base_uri": "https://localhost:8080/"
        },
        "id": "M40Ui81xEnUU",
        "outputId": "431591ca-79bd-43f9-a711-50dd299970dd"
      },
      "outputs": [
        {
          "output_type": "stream",
          "name": "stdout",
          "text": [
            "Requirement already satisfied: gdown in /usr/local/lib/python3.10/dist-packages (5.1.0)\n",
            "Requirement already satisfied: beautifulsoup4 in /usr/local/lib/python3.10/dist-packages (from gdown) (4.12.3)\n",
            "Requirement already satisfied: filelock in /usr/local/lib/python3.10/dist-packages (from gdown) (3.13.3)\n",
            "Requirement already satisfied: requests[socks] in /usr/local/lib/python3.10/dist-packages (from gdown) (2.31.0)\n",
            "Requirement already satisfied: tqdm in /usr/local/lib/python3.10/dist-packages (from gdown) (4.66.2)\n",
            "Requirement already satisfied: soupsieve>1.2 in /usr/local/lib/python3.10/dist-packages (from beautifulsoup4->gdown) (2.5)\n",
            "Requirement already satisfied: charset-normalizer<4,>=2 in /usr/local/lib/python3.10/dist-packages (from requests[socks]->gdown) (3.3.2)\n",
            "Requirement already satisfied: idna<4,>=2.5 in /usr/local/lib/python3.10/dist-packages (from requests[socks]->gdown) (3.6)\n",
            "Requirement already satisfied: urllib3<3,>=1.21.1 in /usr/local/lib/python3.10/dist-packages (from requests[socks]->gdown) (2.0.7)\n",
            "Requirement already satisfied: certifi>=2017.4.17 in /usr/local/lib/python3.10/dist-packages (from requests[socks]->gdown) (2024.2.2)\n",
            "Requirement already satisfied: PySocks!=1.5.7,>=1.5.6 in /usr/local/lib/python3.10/dist-packages (from requests[socks]->gdown) (1.7.1)\n",
            "Downloading...\n",
            "From: https://drive.google.com/uc?id=1jYW2zOSeXrdsVjhE4Q6G00ycijek8xPm\n",
            "To: /content/Normal.csv\n",
            "100% 6.14M/6.14M [00:00<00:00, 46.3MB/s]\n",
            "Downloading...\n",
            "From: https://drive.google.com/uc?id=1PulhFyTnR1H5XlUqDvjSAO5Y8_YcCakC\n",
            "To: /content/Fault.csv\n",
            "100% 4.70M/4.70M [00:00<00:00, 36.5MB/s]\n"
          ]
        }
      ],
      "source": [
        "!pip install --upgrade --no-cache-dir gdown\n",
        "!gdown 1jYW2zOSeXrdsVjhE4Q6G00ycijek8xPm\n",
        "!gdown 1PulhFyTnR1H5XlUqDvjSAO5Y8_YcCakC"
      ]
    },
    {
      "cell_type": "code",
      "execution_count": null,
      "metadata": {
        "id": "RUqDit4XGCKV"
      },
      "outputs": [],
      "source": [
        "import pandas as pd\n",
        "import numpy as np\n",
        "import matplotlib.pyplot as plt"
      ]
    },
    {
      "cell_type": "code",
      "execution_count": null,
      "metadata": {
        "colab": {
          "base_uri": "https://localhost:8080/"
        },
        "id": "FG9RfVdmGIF_",
        "outputId": "0b266c56-3c84-4c14-dea1-d8e7755e7c35"
      },
      "outputs": [
        {
          "output_type": "stream",
          "name": "stdout",
          "text": [
            "Number of null values in each column:\n",
            "0\n",
            "DataFrame after removing rows with null values:\n",
            "0         0.053197\n",
            "1         0.088662\n",
            "2         0.099718\n",
            "3         0.058621\n",
            "4        -0.004590\n",
            "            ...   \n",
            "243933   -0.059664\n",
            "243934   -0.063836\n",
            "243935   -0.034630\n",
            "243936    0.016689\n",
            "243937    0.046938\n",
            "Name: X097_DE_time, Length: 243938, dtype: float64\n"
          ]
        }
      ],
      "source": [
        "Normal = pd.read_csv('/content/Normal.csv')\n",
        "\n",
        "Normal=Normal.X097_DE_time\n",
        "# Show the number of null values in each column\n",
        "null_counts = Normal.isnull().sum()\n",
        "print(\"Number of null values in each column:\")\n",
        "print(null_counts)\n",
        "\n",
        "# Remove rows with null values\n",
        "Normal = Normal.dropna()\n",
        "\n",
        "# Reset the index after removing rows\n",
        "Normal = Normal.reset_index(drop=True)\n",
        "\n",
        "# Now, the DataFrame 'df' contains no rows with null values\n",
        "print(\"DataFrame after removing rows with null values:\")\n",
        "print(Normal)\n"
      ]
    },
    {
      "cell_type": "code",
      "execution_count": null,
      "metadata": {
        "colab": {
          "base_uri": "https://localhost:8080/"
        },
        "id": "AYqJfJLGNBnl",
        "outputId": "d256fb7b-f0dd-4d83-d81e-d48e62b9b509"
      },
      "outputs": [
        {
          "output_type": "stream",
          "name": "stdout",
          "text": [
            "Number of null values in each column:\n",
            "0\n",
            "DataFrame after removing rows with null values:\n",
            "0        -0.083004\n",
            "1        -0.195734\n",
            "2         0.233419\n",
            "3         0.103958\n",
            "4        -0.181115\n",
            "            ...   \n",
            "121260    0.324545\n",
            "121261    0.142456\n",
            "121262   -0.316424\n",
            "121263   -0.063675\n",
            "121264    0.267368\n",
            "Name: X105_DE_time, Length: 121265, dtype: float64\n"
          ]
        }
      ],
      "source": [
        "Fault = pd.read_csv('/content/Fault.csv')\n",
        "Fault=Fault.X105_DE_time\n",
        "# Show the number of null values in each column\n",
        "null_counts = Fault.isnull().sum()\n",
        "print(\"Number of null values in each column:\")\n",
        "print(null_counts)\n",
        "\n",
        "# Remove rows with null values\n",
        "Fault = Fault.dropna()\n",
        "\n",
        "# Reset the index after removing rows\n",
        "Fault = Fault.reset_index(drop=True)\n",
        "\n",
        "# Now, the DataFrame 'df' contains no rows with null values\n",
        "print(\"DataFrame after removing rows with null values:\")\n",
        "print(Fault)"
      ]
    },
    {
      "cell_type": "markdown",
      "source": [
        "#2-2"
      ],
      "metadata": {
        "id": "7SkCaOgFkkQ5"
      }
    },
    {
      "cell_type": "markdown",
      "source": [
        "##A"
      ],
      "metadata": {
        "id": "TTguB_cTko7D"
      }
    },
    {
      "cell_type": "code",
      "execution_count": null,
      "metadata": {
        "colab": {
          "base_uri": "https://localhost:8080/"
        },
        "id": "95WPk3M6P3fZ",
        "outputId": "c5ca671f-4015-4f67-ea7f-8509d2db46e1"
      },
      "outputs": [
        {
          "output_type": "stream",
          "name": "stdout",
          "text": [
            "Data Matrix:\n",
            "[[-0.15583569 -0.18483323 -0.15959077 ... -0.08386338 -0.07468431\n",
            "  -0.06133292]\n",
            " [-0.15583569 -0.18483323 -0.15959077 ... -0.08386338 -0.07468431\n",
            "  -0.06133292]\n",
            " [-0.15583569 -0.18483323 -0.15959077 ... -0.08386338 -0.07468431\n",
            "  -0.06133292]\n",
            " ...\n",
            " [-0.15691233 -0.6089693   0.27890112 ...  0.03313677 -0.02956319\n",
            "  -0.11256755]\n",
            " [-0.15691233 -0.6089693   0.27890112 ...  0.03313677 -0.02956319\n",
            "  -0.11256755]\n",
            " [-0.15691233 -0.6089693   0.27890112 ...  0.03313677 -0.02956319\n",
            "  -0.11256755]]\n",
            "(200, 200)\n",
            "data & label matrix:\n",
            "[[-0.15583569 -0.18483323 -0.15959077 ... -0.07468431 -0.06133292\n",
            "   1.        ]\n",
            " [-0.15583569 -0.18483323 -0.15959077 ... -0.07468431 -0.06133292\n",
            "   1.        ]\n",
            " [-0.15583569 -0.18483323 -0.15959077 ... -0.07468431 -0.06133292\n",
            "   1.        ]\n",
            " ...\n",
            " [-0.15691233 -0.6089693   0.27890112 ... -0.02956319 -0.11256755\n",
            "   0.        ]\n",
            " [-0.15691233 -0.6089693   0.27890112 ... -0.02956319 -0.11256755\n",
            "   0.        ]\n",
            " [-0.15691233 -0.6089693   0.27890112 ... -0.02956319 -0.11256755\n",
            "   0.        ]]\n"
          ]
        }
      ],
      "source": [
        "Normal_data = Normal\n",
        "Fault_data = Fault\n",
        "\n",
        "# Extract 100 samples with length of 200\n",
        "sample_length = 200\n",
        "num_samples = 100\n",
        "\n",
        "Normal_samples = []\n",
        "Fault_samples = []\n",
        "\n",
        "# Extract samples from class Normal\n",
        "for i in range(num_samples):\n",
        "    np.random.seed(64)\n",
        "    start_idx = np.random.randint(0, len(Normal_data) - sample_length + 1)\n",
        "    sample = Normal_data[start_idx:start_idx + sample_length]\n",
        "    Normal_samples.append(sample)\n",
        "\n",
        "# Extract samples from class Fault\n",
        "for i in range(num_samples):\n",
        "    np.random.seed(64)\n",
        "    start_idx = np.random.randint(0, len(Fault_data) - sample_length + 1)\n",
        "    sample = Fault_data[start_idx:start_idx + sample_length]\n",
        "    Fault_samples.append(sample)\n",
        "\n",
        "# Convert lists of samples to numpy arrays\n",
        "Normal_samples = np.array(Normal_samples)\n",
        "Fault_samples = np.array(Fault_samples)\n",
        "\n",
        "# Create labels for the samples\n",
        "Normal_labels = np.ones((num_samples, 1))  # Assuming class Normal is labeled as 1\n",
        "Fault_labels = np.zeros((num_samples, 1))  # Assuming class Fault  is labeled as 0\n",
        "\n",
        "# Concatenate the data and labels for both classes\n",
        "data_matrix = np.vstack((Normal_samples, Fault_samples))\n",
        "print(\"Data Matrix:\")\n",
        "print(data_matrix)\n",
        "print(data_matrix.shape)\n",
        "labels = np.vstack((Normal_labels, Fault_labels))\n",
        "#print(\"Labels\")\n",
        "#print(labels)\n",
        "#print(labels.shape)\n",
        "main_matrix = np.hstack((data_matrix, labels))\n",
        "print(\"data & label matrix:\")\n",
        "print(main_matrix)\n"
      ]
    },
    {
      "cell_type": "markdown",
      "metadata": {
        "id": "RT16a8-pXVuH"
      },
      "source": [
        "##B"
      ]
    },
    {
      "cell_type": "code",
      "execution_count": null,
      "metadata": {
        "colab": {
          "base_uri": "https://localhost:8080/"
        },
        "id": "1UbF_N5oy6WD",
        "outputId": "648470c7-7adb-4c48-8e96-0e6c99b70b25"
      },
      "outputs": [
        {
          "output_type": "stream",
          "name": "stdout",
          "text": [
            "         Mean  Standard Deviation      Peak       RMS  Crest Factor  \\\n",
            "0    0.016739            0.086732  0.202148  0.088333      2.288487   \n",
            "1    0.016739            0.086732  0.202148  0.088333      2.288487   \n",
            "2    0.016739            0.086732  0.202148  0.088333      2.288487   \n",
            "3    0.016739            0.086732  0.202148  0.088333      2.288487   \n",
            "4    0.016739            0.086732  0.202148  0.088333      2.288487   \n",
            "..        ...                 ...       ...       ...           ...   \n",
            "195  0.013727            0.266337  0.902977  0.266690      3.385863   \n",
            "196  0.013727            0.266337  0.902977  0.266690      3.385863   \n",
            "197  0.013727            0.266337  0.902977  0.266690      3.385863   \n",
            "198  0.013727            0.266337  0.902977  0.266690      3.385863   \n",
            "199  0.013727            0.266337  0.902977  0.266690      3.385863   \n",
            "\n",
            "     Peak to Peak  Absolute Mean  Impulse Factor  \n",
            "0        0.386982       0.075379        2.681759  \n",
            "1        0.386982       0.075379        2.681759  \n",
            "2        0.386982       0.075379        2.681759  \n",
            "3        0.386982       0.075379        2.681759  \n",
            "4        0.386982       0.075379        2.681759  \n",
            "..            ...            ...             ...  \n",
            "195      1.679254       0.196503        4.595240  \n",
            "196      1.679254       0.196503        4.595240  \n",
            "197      1.679254       0.196503        4.595240  \n",
            "198      1.679254       0.196503        4.595240  \n",
            "199      1.679254       0.196503        4.595240  \n",
            "\n",
            "[200 rows x 8 columns]\n"
          ]
        }
      ],
      "source": [
        "#create features\n",
        "mean_values = np.mean(data_matrix, axis=1)\n",
        "std_dev_values = np.std(data_matrix, axis=1)\n",
        "peak_values = np.max(np.abs(data_matrix), axis=1)\n",
        "rms_value = np.sqrt(np.mean(data_matrix**2, axis=1))\n",
        "crest_factor = peak_values / rms_value\n",
        "peak_to_peak_value=np.max(data_matrix, axis=1)-np.min(data_matrix, axis=1)\n",
        "Abs_Mean_value=np.mean(np.abs(data_matrix), axis=1)\n",
        "Impulse_Factor=peak_values/Abs_Mean_value\n",
        "\n",
        "# Concatenate mean and standard deviation as features\n",
        "features = np.column_stack((mean_values, std_dev_values, peak_values, rms_value, crest_factor, peak_to_peak_value, Abs_Mean_value, Impulse_Factor))\n",
        "\n",
        "# Create DataFrame\n",
        "Data = pd.DataFrame(features, columns=['Mean', 'Standard Deviation','Peak', 'RMS', 'Crest Factor', 'Peak to Peak', 'Absolute Mean', 'Impulse Factor'])\n",
        "\n",
        "print(Data)\n"
      ]
    },
    {
      "cell_type": "markdown",
      "metadata": {
        "id": "5idrAwHCI-Bc"
      },
      "source": [
        "##C"
      ]
    },
    {
      "cell_type": "code",
      "execution_count": null,
      "metadata": {
        "colab": {
          "base_uri": "https://localhost:8080/"
        },
        "id": "iqPAsIozJAP8",
        "outputId": "0b5665c2-e9be-4905-cadc-2d1996e3aaa9"
      },
      "outputs": [
        {
          "output_type": "stream",
          "name": "stdout",
          "text": [
            "[[0.0167393  0.08673215 0.20214831 ... 0.075379   2.68175906 1.        ]\n",
            " [0.01372739 0.26633675 0.90297689 ... 0.19650265 4.59524026 0.        ]\n",
            " [0.0167393  0.08673215 0.20214831 ... 0.075379   2.68175906 1.        ]\n",
            " ...\n",
            " [0.01372739 0.26633675 0.90297689 ... 0.19650265 4.59524026 0.        ]\n",
            " [0.01372739 0.26633675 0.90297689 ... 0.19650265 4.59524026 0.        ]\n",
            " [0.01372739 0.26633675 0.90297689 ... 0.19650265 4.59524026 0.        ]]\n"
          ]
        }
      ],
      "source": [
        "#shuffling Data\n",
        "Labeled_Data=np.hstack((Data, labels))\n",
        "np.random.seed(64)\n",
        "np.random.shuffle(Labeled_Data)\n",
        "print(Labeled_Data)"
      ]
    },
    {
      "cell_type": "code",
      "execution_count": null,
      "metadata": {
        "colab": {
          "base_uri": "https://localhost:8080/"
        },
        "id": "ZyNs7OJRPodA",
        "outputId": "2549334d-1d06-4655-e205-264e55fbbefb"
      },
      "outputs": [
        {
          "output_type": "execute_result",
          "data": {
            "text/plain": [
              "((160, 8), (40, 8), (160, 1), (40, 1))"
            ]
          },
          "metadata": {},
          "execution_count": 10
        }
      ],
      "source": [
        "#Train & Test\n",
        "\n",
        "from sklearn.model_selection import train_test_split\n",
        "Labeled_Data=pd.DataFrame(np.hstack((Data, labels)), columns=['Mean', 'Standard Deviation','Peak', 'RMS', 'Crest Factor', 'Peak to Peak', 'Absolute Mean', 'Impulse Factor', 'Target'])\n",
        "X = Labeled_Data[['Mean', 'Standard Deviation','Peak', 'RMS', 'Crest Factor', 'Peak to Peak', 'Absolute Mean', 'Impulse Factor']].values\n",
        "y = Labeled_Data[['Target']].values\n",
        "\n",
        "x_train, x_test, y_train, y_test = train_test_split(X, y, test_size=0.2, random_state=64)\n",
        "x_train.shape, x_test.shape, y_train.shape, y_test.shape"
      ]
    },
    {
      "cell_type": "markdown",
      "metadata": {
        "id": "V0hxfOgydOUA"
      },
      "source": []
    },
    {
      "cell_type": "markdown",
      "metadata": {
        "id": "AYI7XE2dXJA_"
      },
      "source": [
        "##D"
      ]
    },
    {
      "cell_type": "code",
      "execution_count": null,
      "metadata": {
        "colab": {
          "base_uri": "https://localhost:8080/"
        },
        "id": "VlYt2hFWXKUn",
        "outputId": "03bc624d-1414-4b92-e47b-5afb9be6ea5d"
      },
      "outputs": [
        {
          "output_type": "execute_result",
          "data": {
            "text/plain": [
              "((160, 8), (40, 8), (160, 1), (40, 1))"
            ]
          },
          "metadata": {},
          "execution_count": 11
        }
      ],
      "source": [
        "#Normalizing Data\n",
        "from sklearn.preprocessing import MinMaxScaler\n",
        "# Create a MinMaxScaler instance\n",
        "scaler = MinMaxScaler()\n",
        "\n",
        "# Fit the scaler on the training data and transform it\n",
        "x_train_normalized = scaler.fit_transform(x_train)\n",
        "\n",
        "# Transform the test data using the same scaler\n",
        "x_test_normalized = scaler.fit_transform(x_test)\n",
        "\n",
        "# Check the shapes of the normalized data\n",
        "x_train_normalized.shape, x_test_normalized.shape, y_train.shape, y_test.shape"
      ]
    },
    {
      "cell_type": "markdown",
      "metadata": {
        "id": "unVT98G3cYvl"
      },
      "source": [
        "#2-3"
      ]
    },
    {
      "cell_type": "code",
      "execution_count": null,
      "metadata": {
        "id": "B7Bur9sXcaBt"
      },
      "outputs": [],
      "source": [
        "#Logistic Regression (from Scratch)\n",
        "\n",
        "\n",
        "def sigmoid(x):\n",
        "    return 1 / (1 + np.exp(-x))\n",
        "\n",
        "\n",
        "def logistic_regression(x, w):\n",
        "    y_hat = sigmoid(x @ w)\n",
        "    return y_hat\n",
        "\n",
        "\n",
        "#Binary Cross Entropy (BCE)\n",
        "\n",
        "\n",
        "def bce(y, y_hat):\n",
        "    loss = -(np.mean(y*np.log(y_hat) + (1-y)*np.log(1-y_hat)))\n",
        "    return loss\n",
        "\n",
        "\n",
        "#Gradient\n",
        "\n",
        "\n",
        "def gradient(x, y, y_hat):\n",
        "    grads = (x.T @ (y_hat - y)) / len(y)\n",
        "    return grads\n",
        "\n",
        "\n",
        "#Gradient Descent\n",
        "\n",
        "def gradient_descent(w, eta, grads):\n",
        "    w -= eta*grads\n",
        "    return w\n",
        "\n",
        "#Accuracy\n",
        "\n",
        "def accuracy(y, y_hat):\n",
        "    acc = np.sum(y == np.round(y_hat)) / len(y)\n",
        "    return acc\n",
        "#recall\n",
        "def recall(y, y_hat):\n",
        "    # Calculate true positives and false negatives\n",
        "    true_positives = np.sum(np.round(y_hat)==y)\n",
        "    false_negatives = np.sum(np.round(y_hat)!=y)\n",
        "    recall = true_positives / (true_positives + false_negatives) if (true_positives + false_negatives) != 0 else 0\n",
        "    return recall\n",
        "\n",
        "\n"
      ]
    },
    {
      "cell_type": "code",
      "execution_count": null,
      "metadata": {
        "colab": {
          "base_uri": "https://localhost:8080/"
        },
        "id": "YDl-exVY6gx8",
        "outputId": "9e947a18-dc6d-46bd-84ff-a2d38f618e79"
      },
      "outputs": [
        {
          "output_type": "stream",
          "name": "stdout",
          "text": [
            "(9, 1)\n"
          ]
        }
      ],
      "source": [
        "#hyper parameter\n",
        "m = 8\n",
        "np.random.seed(64)\n",
        "w = np.random.randn(m+1, 1)\n",
        "print(w.shape)\n",
        "\n",
        "eta = 0.01\n",
        "n_epochs = 1000"
      ]
    },
    {
      "cell_type": "code",
      "source": [
        "x_train = np.hstack((np.ones((len(x_train), 1)), x_train))\n",
        "x_train.shape"
      ],
      "metadata": {
        "colab": {
          "base_uri": "https://localhost:8080/"
        },
        "id": "F8PN0KXad3ca",
        "outputId": "009980d9-d1c5-40d9-a064-a923a27672fc"
      },
      "execution_count": null,
      "outputs": [
        {
          "output_type": "execute_result",
          "data": {
            "text/plain": [
              "(160, 9)"
            ]
          },
          "metadata": {},
          "execution_count": 14
        }
      ]
    },
    {
      "cell_type": "code",
      "execution_count": null,
      "metadata": {
        "id": "sGTxaC3RCspa",
        "colab": {
          "base_uri": "https://localhost:8080/"
        },
        "outputId": "1ece1f8e-85b9-4c64-fd97-ca996e101fd2"
      },
      "outputs": [
        {
          "output_type": "stream",
          "name": "stdout",
          "text": [
            "Epoch=99, \t E=0.5278,\t w=[ 1.56372685 -1.97484919 -1.11131983  2.28166698 -1.86175486  0.61888444\n",
            " -0.96533571 -0.99921545 -1.14266969]\n",
            "Epoch=199, \t E=0.3995,\t w=[ 1.68805554 -1.97244935 -1.11953881  2.23265174 -1.86964291  0.78730601\n",
            " -1.05394603 -1.00265863 -1.01169753]\n",
            "Epoch=299, \t E=0.3704,\t w=[ 1.76776299 -1.97075896 -1.13386304  2.16589464 -1.88369211  0.8399557\n",
            " -1.17590615 -1.01097269 -1.02420188]\n",
            "Epoch=399, \t E=0.3446,\t w=[ 1.84254474 -1.96917144 -1.14739715  2.10289198 -1.89696752  0.8887709\n",
            " -1.29101353 -1.01883708 -1.03694638]\n",
            "Epoch=499, \t E=0.3216,\t w=[ 1.91305782 -1.96767439 -1.16016737  2.04345184 -1.90949374  0.93474677\n",
            " -1.39961265 -1.02625839 -1.04905561]\n",
            "Epoch=599, \t E=0.3011,\t w=[ 1.97967526 -1.96625993 -1.17223879  1.98726936 -1.92133461  0.97814153\n",
            " -1.50226037 -1.03327423 -1.06056746]\n",
            "Epoch=699, \t E=0.2827,\t w=[ 2.04273213 -1.96492098 -1.18367062  1.93406787 -1.93254816  1.0191827\n",
            " -1.59946207 -1.03991887 -1.0715237 ]\n",
            "Epoch=799, \t E=0.2662,\t w=[ 2.10252988 -1.96365116 -1.19451629  1.88359776 -1.94318681  1.0580739\n",
            " -1.6916737  -1.04622324 -1.08196377]\n",
            "Epoch=899, \t E=0.2513,\t w=[ 2.15933945 -1.96244472 -1.20482396  1.83563421 -1.95329777  1.09499737\n",
            " -1.77930599 -1.05221526 -1.09192448]\n",
            "Epoch=999, \t E=0.2377,\t w=[ 2.21340427 -1.96129652 -1.214637    1.78997482 -1.96292359  1.13011622\n",
            " -1.86272865 -1.05792006 -1.10143997]\n"
          ]
        }
      ],
      "source": [
        "error_hist = []\n",
        "\n",
        "for epoch in range(n_epochs):\n",
        "    # predictions\n",
        "    y_hat = logistic_regression(x_train, w)\n",
        "\n",
        "    # loss\n",
        "    e = bce(y_train, y_hat)\n",
        "    error_hist.append(e)\n",
        "\n",
        "    # gradients\n",
        "    grads = gradient(x_train, y_train, y_hat)\n",
        "\n",
        "    # gradient descent\n",
        "    w = gradient_descent(w, eta, grads)\n",
        "\n",
        "    if (epoch+1) % 100 == 0:\n",
        "        print(f'Epoch={epoch}, \\t E={e:.4},\\t w={w.T[0]}')\n"
      ]
    },
    {
      "cell_type": "code",
      "source": [
        "plt.plot(error_hist)\n"
      ],
      "metadata": {
        "colab": {
          "base_uri": "https://localhost:8080/",
          "height": 447
        },
        "id": "q8YEYwIkeosi",
        "outputId": "f642a5ea-7a6b-47cb-cc78-912ca6f01cc4"
      },
      "execution_count": null,
      "outputs": [
        {
          "output_type": "execute_result",
          "data": {
            "text/plain": [
              "[<matplotlib.lines.Line2D at 0x7adfa0a787c0>]"
            ]
          },
          "metadata": {},
          "execution_count": 16
        },
        {
          "output_type": "display_data",
          "data": {
            "text/plain": [
              "<Figure size 640x480 with 1 Axes>"
            ],
            "image/png": "[encoded data removed]"
          },
          "metadata": {}
        }
      ]
    },
    {
      "cell_type": "code",
      "source": [
        "#Test\n",
        "x_test = np.hstack((np.ones((len(x_test), 1)), x_test))\n",
        "x_test.shape"
      ],
      "metadata": {
        "colab": {
          "base_uri": "https://localhost:8080/"
        },
        "id": "syUEqVO9pYmK",
        "outputId": "1a2ae1e9-0848-4179-cb6a-36a57628a3d2"
      },
      "execution_count": null,
      "outputs": [
        {
          "output_type": "execute_result",
          "data": {
            "text/plain": [
              "(40, 9)"
            ]
          },
          "metadata": {},
          "execution_count": 17
        }
      ]
    },
    {
      "cell_type": "code",
      "source": [
        "#Accuracy\n",
        "y_hat = logistic_regression(x_test, w)\n",
        "accuracy(y_test, y_hat)"
      ],
      "metadata": {
        "colab": {
          "base_uri": "https://localhost:8080/"
        },
        "id": "xh6h1jkLqFzp",
        "outputId": "29af674b-08ca-488f-ca20-36b6ba0b38bc"
      },
      "execution_count": null,
      "outputs": [
        {
          "output_type": "execute_result",
          "data": {
            "text/plain": [
              "1.0"
            ]
          },
          "metadata": {},
          "execution_count": 18
        }
      ]
    },
    {
      "cell_type": "code",
      "source": [
        "#Accuracy\n",
        "recall(y_test, y_hat)"
      ],
      "metadata": {
        "colab": {
          "base_uri": "https://localhost:8080/"
        },
        "id": "Oz0ZJXCXqSWy",
        "outputId": "5256792b-e23d-4711-8811-92e6ef1dfb91"
      },
      "execution_count": null,
      "outputs": [
        {
          "output_type": "execute_result",
          "data": {
            "text/plain": [
              "1.0"
            ]
          },
          "metadata": {},
          "execution_count": 19
        }
      ]
    },
    {
      "cell_type": "markdown",
      "source": [
        "#2-4"
      ],
      "metadata": {
        "id": "WGqAsBOw1GDa"
      }
    },
    {
      "cell_type": "code",
      "source": [
        "#LogisticRegression_using libraries\n",
        "from sklearn.linear_model import LogisticRegression, SGDClassifier\n",
        "model = LogisticRegression(random_state=64)\n",
        "model.fit(x_train, y_train)\n",
        "model.predict(x_test), y_test\n"
      ],
      "metadata": {
        "colab": {
          "base_uri": "https://localhost:8080/"
        },
        "id": "D0YkS26m1NMg",
        "outputId": "002bd877-bc17-4081-ff4f-8fb4adcf51d6"
      },
      "execution_count": null,
      "outputs": [
        {
          "output_type": "stream",
          "name": "stderr",
          "text": [
            "/usr/local/lib/python3.10/dist-packages/sklearn/utils/validation.py:1143: DataConversionWarning: A column-vector y was passed when a 1d array was expected. Please change the shape of y to (n_samples, ), for example using ravel().\n",
            "  y = column_or_1d(y, warn=True)\n"
          ]
        },
        {
          "output_type": "execute_result",
          "data": {
            "text/plain": [
              "(array([1., 0., 1., 0., 1., 1., 0., 0., 1., 0., 0., 0., 1., 1., 0., 0., 1.,\n",
              "        1., 0., 0., 0., 0., 1., 0., 1., 0., 1., 0., 0., 0., 1., 1., 0., 1.,\n",
              "        0., 0., 0., 0., 1., 0.]),\n",
              " array([[1.],\n",
              "        [0.],\n",
              "        [1.],\n",
              "        [0.],\n",
              "        [1.],\n",
              "        [1.],\n",
              "        [0.],\n",
              "        [0.],\n",
              "        [1.],\n",
              "        [0.],\n",
              "        [0.],\n",
              "        [0.],\n",
              "        [1.],\n",
              "        [1.],\n",
              "        [0.],\n",
              "        [0.],\n",
              "        [1.],\n",
              "        [1.],\n",
              "        [0.],\n",
              "        [0.],\n",
              "        [0.],\n",
              "        [0.],\n",
              "        [1.],\n",
              "        [0.],\n",
              "        [1.],\n",
              "        [0.],\n",
              "        [1.],\n",
              "        [0.],\n",
              "        [0.],\n",
              "        [0.],\n",
              "        [1.],\n",
              "        [1.],\n",
              "        [0.],\n",
              "        [1.],\n",
              "        [0.],\n",
              "        [0.],\n",
              "        [0.],\n",
              "        [0.],\n",
              "        [1.],\n",
              "        [0.]]))"
            ]
          },
          "metadata": {},
          "execution_count": 20
        }
      ]
    },
    {
      "cell_type": "code",
      "source": [
        "model.predict_proba(x_test)"
      ],
      "metadata": {
        "colab": {
          "base_uri": "https://localhost:8080/"
        },
        "id": "-1gasfemEWL6",
        "outputId": "7902dfb9-68fb-4d8d-823a-53a6e70613bb"
      },
      "execution_count": null,
      "outputs": [
        {
          "output_type": "execute_result",
          "data": {
            "text/plain": [
              "array([[0.01406946, 0.98593054],\n",
              "       [0.98444956, 0.01555044],\n",
              "       [0.01406946, 0.98593054],\n",
              "       [0.98444956, 0.01555044],\n",
              "       [0.01406946, 0.98593054],\n",
              "       [0.01406946, 0.98593054],\n",
              "       [0.98444956, 0.01555044],\n",
              "       [0.98444956, 0.01555044],\n",
              "       [0.01406946, 0.98593054],\n",
              "       [0.98444956, 0.01555044],\n",
              "       [0.98444956, 0.01555044],\n",
              "       [0.98444956, 0.01555044],\n",
              "       [0.01406946, 0.98593054],\n",
              "       [0.01406946, 0.98593054],\n",
              "       [0.98444956, 0.01555044],\n",
              "       [0.98444956, 0.01555044],\n",
              "       [0.01406946, 0.98593054],\n",
              "       [0.01406946, 0.98593054],\n",
              "       [0.98444956, 0.01555044],\n",
              "       [0.98444956, 0.01555044],\n",
              "       [0.98444956, 0.01555044],\n",
              "       [0.98444956, 0.01555044],\n",
              "       [0.01406946, 0.98593054],\n",
              "       [0.98444956, 0.01555044],\n",
              "       [0.01406946, 0.98593054],\n",
              "       [0.98444956, 0.01555044],\n",
              "       [0.01406946, 0.98593054],\n",
              "       [0.98444956, 0.01555044],\n",
              "       [0.98444956, 0.01555044],\n",
              "       [0.98444956, 0.01555044],\n",
              "       [0.01406946, 0.98593054],\n",
              "       [0.01406946, 0.98593054],\n",
              "       [0.98444956, 0.01555044],\n",
              "       [0.01406946, 0.98593054],\n",
              "       [0.98444956, 0.01555044],\n",
              "       [0.98444956, 0.01555044],\n",
              "       [0.98444956, 0.01555044],\n",
              "       [0.98444956, 0.01555044],\n",
              "       [0.01406946, 0.98593054],\n",
              "       [0.98444956, 0.01555044]])"
            ]
          },
          "metadata": {},
          "execution_count": 21
        }
      ]
    },
    {
      "cell_type": "code",
      "source": [
        "model.predict_log_proba(x_test)"
      ],
      "metadata": {
        "colab": {
          "base_uri": "https://localhost:8080/"
        },
        "id": "IEPpHOHEEeNQ",
        "outputId": "88cf785c-9314-4e6c-ef32-a05aeb4198c5"
      },
      "execution_count": null,
      "outputs": [
        {
          "output_type": "execute_result",
          "data": {
            "text/plain": [
              "array([[-4.26374884, -0.01416937],\n",
              "       [-0.01567261, -4.16366659],\n",
              "       [-4.26374884, -0.01416937],\n",
              "       [-0.01567261, -4.16366659],\n",
              "       [-4.26374884, -0.01416937],\n",
              "       [-4.26374884, -0.01416937],\n",
              "       [-0.01567261, -4.16366659],\n",
              "       [-0.01567261, -4.16366659],\n",
              "       [-4.26374884, -0.01416937],\n",
              "       [-0.01567261, -4.16366659],\n",
              "       [-0.01567261, -4.16366659],\n",
              "       [-0.01567261, -4.16366659],\n",
              "       [-4.26374884, -0.01416937],\n",
              "       [-4.26374884, -0.01416937],\n",
              "       [-0.01567261, -4.16366659],\n",
              "       [-0.01567261, -4.16366659],\n",
              "       [-4.26374884, -0.01416937],\n",
              "       [-4.26374884, -0.01416937],\n",
              "       [-0.01567261, -4.16366659],\n",
              "       [-0.01567261, -4.16366659],\n",
              "       [-0.01567261, -4.16366659],\n",
              "       [-0.01567261, -4.16366659],\n",
              "       [-4.26374884, -0.01416937],\n",
              "       [-0.01567261, -4.16366659],\n",
              "       [-4.26374884, -0.01416937],\n",
              "       [-0.01567261, -4.16366659],\n",
              "       [-4.26374884, -0.01416937],\n",
              "       [-0.01567261, -4.16366659],\n",
              "       [-0.01567261, -4.16366659],\n",
              "       [-0.01567261, -4.16366659],\n",
              "       [-4.26374884, -0.01416937],\n",
              "       [-4.26374884, -0.01416937],\n",
              "       [-0.01567261, -4.16366659],\n",
              "       [-4.26374884, -0.01416937],\n",
              "       [-0.01567261, -4.16366659],\n",
              "       [-0.01567261, -4.16366659],\n",
              "       [-0.01567261, -4.16366659],\n",
              "       [-0.01567261, -4.16366659],\n",
              "       [-4.26374884, -0.01416937],\n",
              "       [-0.01567261, -4.16366659]])"
            ]
          },
          "metadata": {},
          "execution_count": 22
        }
      ]
    },
    {
      "cell_type": "code",
      "source": [
        "model.score(x_train, y_train)"
      ],
      "metadata": {
        "colab": {
          "base_uri": "https://localhost:8080/"
        },
        "id": "7YSVeag3EvIe",
        "outputId": "17ca0aad-12cb-41b0-8e87-708a3a7ac49b"
      },
      "execution_count": null,
      "outputs": [
        {
          "output_type": "execute_result",
          "data": {
            "text/plain": [
              "1.0"
            ]
          },
          "metadata": {},
          "execution_count": 23
        }
      ]
    },
    {
      "cell_type": "code",
      "source": [
        "model.score(x_test, y_test)"
      ],
      "metadata": {
        "colab": {
          "base_uri": "https://localhost:8080/"
        },
        "id": "wV08_MMbEvz3",
        "outputId": "071d3c1a-8e8c-4fb5-8423-bf9337708294"
      },
      "execution_count": null,
      "outputs": [
        {
          "output_type": "execute_result",
          "data": {
            "text/plain": [
              "1.0"
            ]
          },
          "metadata": {},
          "execution_count": 24
        }
      ]
    },
    {
      "cell_type": "code",
      "source": [
        "#optimize hyperparameter using random search\n",
        "from sklearn.model_selection import RandomizedSearchCV\n",
        "from scipy.stats import randint\n",
        "from scipy.stats import uniform\n",
        "\n",
        "# Set the random seed\n",
        "np.random.seed(64)\n",
        "# Define hyperparameter distributions\n",
        "param_dist = {\n",
        "    'max_iter': randint(100, 1000),\n",
        "    'C': [0.1, 1, 10],\n",
        "    'class_weight': [{0: w, 1: 1 - w} for w in uniform(loc=0, scale=1).rvs(10)],\n",
        "    'solver': ['liblinear', 'newton-cg', 'lbfgs', 'sag', 'saga']\n",
        "}\n",
        "\n",
        "# Perform random search\n",
        "random_search = RandomizedSearchCV(model, param_dist, scoring='accuracy',random_state=64)\n",
        "random_search.fit(x_train, y_train)\n",
        "\n",
        "# Best hyperparameters\n",
        "print(\"Best Hyperparameters:\", random_search.best_params_)\n",
        "\n"
      ],
      "metadata": {
        "colab": {
          "base_uri": "https://localhost:8080/"
        },
        "id": "r3DBLbUZ6fBG",
        "outputId": "87df431b-76cf-4da8-c5bd-d2f63d9bdcaa"
      },
      "execution_count": null,
      "outputs": [
        {
          "output_type": "stream",
          "name": "stderr",
          "text": [
            "/usr/local/lib/python3.10/dist-packages/sklearn/utils/validation.py:1143: DataConversionWarning: A column-vector y was passed when a 1d array was expected. Please change the shape of y to (n_samples, ), for example using ravel().\n",
            "  y = column_or_1d(y, warn=True)\n",
            "/usr/local/lib/python3.10/dist-packages/sklearn/utils/validation.py:1143: DataConversionWarning: A column-vector y was passed when a 1d array was expected. Please change the shape of y to (n_samples, ), for example using ravel().\n",
            "  y = column_or_1d(y, warn=True)\n",
            "/usr/local/lib/python3.10/dist-packages/sklearn/utils/validation.py:1143: DataConversionWarning: A column-vector y was passed when a 1d array was expected. Please change the shape of y to (n_samples, ), for example using ravel().\n",
            "  y = column_or_1d(y, warn=True)\n",
            "/usr/local/lib/python3.10/dist-packages/sklearn/utils/validation.py:1143: DataConversionWarning: A column-vector y was passed when a 1d array was expected. Please change the shape of y to (n_samples, ), for example using ravel().\n",
            "  y = column_or_1d(y, warn=True)\n",
            "/usr/local/lib/python3.10/dist-packages/sklearn/utils/validation.py:1143: DataConversionWarning: A column-vector y was passed when a 1d array was expected. Please change the shape of y to (n_samples, ), for example using ravel().\n",
            "  y = column_or_1d(y, warn=True)\n",
            "/usr/local/lib/python3.10/dist-packages/sklearn/utils/validation.py:1143: DataConversionWarning: A column-vector y was passed when a 1d array was expected. Please change the shape of y to (n_samples, ), for example using ravel().\n",
            "  y = column_or_1d(y, warn=True)\n",
            "/usr/local/lib/python3.10/dist-packages/sklearn/utils/validation.py:1143: DataConversionWarning: A column-vector y was passed when a 1d array was expected. Please change the shape of y to (n_samples, ), for example using ravel().\n",
            "  y = column_or_1d(y, warn=True)\n",
            "/usr/local/lib/python3.10/dist-packages/sklearn/utils/validation.py:1143: DataConversionWarning: A column-vector y was passed when a 1d array was expected. Please change the shape of y to (n_samples, ), for example using ravel().\n",
            "  y = column_or_1d(y, warn=True)\n",
            "/usr/local/lib/python3.10/dist-packages/sklearn/utils/validation.py:1143: DataConversionWarning: A column-vector y was passed when a 1d array was expected. Please change the shape of y to (n_samples, ), for example using ravel().\n",
            "  y = column_or_1d(y, warn=True)\n",
            "/usr/local/lib/python3.10/dist-packages/sklearn/utils/validation.py:1143: DataConversionWarning: A column-vector y was passed when a 1d array was expected. Please change the shape of y to (n_samples, ), for example using ravel().\n",
            "  y = column_or_1d(y, warn=True)\n",
            "/usr/local/lib/python3.10/dist-packages/sklearn/utils/validation.py:1143: DataConversionWarning: A column-vector y was passed when a 1d array was expected. Please change the shape of y to (n_samples, ), for example using ravel().\n",
            "  y = column_or_1d(y, warn=True)\n",
            "/usr/local/lib/python3.10/dist-packages/sklearn/utils/validation.py:1143: DataConversionWarning: A column-vector y was passed when a 1d array was expected. Please change the shape of y to (n_samples, ), for example using ravel().\n",
            "  y = column_or_1d(y, warn=True)\n",
            "/usr/local/lib/python3.10/dist-packages/sklearn/utils/validation.py:1143: DataConversionWarning: A column-vector y was passed when a 1d array was expected. Please change the shape of y to (n_samples, ), for example using ravel().\n",
            "  y = column_or_1d(y, warn=True)\n",
            "/usr/local/lib/python3.10/dist-packages/sklearn/utils/validation.py:1143: DataConversionWarning: A column-vector y was passed when a 1d array was expected. Please change the shape of y to (n_samples, ), for example using ravel().\n",
            "  y = column_or_1d(y, warn=True)\n",
            "/usr/local/lib/python3.10/dist-packages/sklearn/utils/validation.py:1143: DataConversionWarning: A column-vector y was passed when a 1d array was expected. Please change the shape of y to (n_samples, ), for example using ravel().\n",
            "  y = column_or_1d(y, warn=True)\n",
            "/usr/local/lib/python3.10/dist-packages/sklearn/utils/validation.py:1143: DataConversionWarning: A column-vector y was passed when a 1d array was expected. Please change the shape of y to (n_samples, ), for example using ravel().\n",
            "  y = column_or_1d(y, warn=True)\n",
            "/usr/local/lib/python3.10/dist-packages/sklearn/linear_model/_sag.py:350: ConvergenceWarning: The max_iter was reached which means the coef_ did not converge\n",
            "  warnings.warn(\n",
            "/usr/local/lib/python3.10/dist-packages/sklearn/utils/validation.py:1143: DataConversionWarning: A column-vector y was passed when a 1d array was expected. Please change the shape of y to (n_samples, ), for example using ravel().\n",
            "  y = column_or_1d(y, warn=True)\n",
            "/usr/local/lib/python3.10/dist-packages/sklearn/linear_model/_sag.py:350: ConvergenceWarning: The max_iter was reached which means the coef_ did not converge\n",
            "  warnings.warn(\n",
            "/usr/local/lib/python3.10/dist-packages/sklearn/utils/validation.py:1143: DataConversionWarning: A column-vector y was passed when a 1d array was expected. Please change the shape of y to (n_samples, ), for example using ravel().\n",
            "  y = column_or_1d(y, warn=True)\n",
            "/usr/local/lib/python3.10/dist-packages/sklearn/linear_model/_sag.py:350: ConvergenceWarning: The max_iter was reached which means the coef_ did not converge\n",
            "  warnings.warn(\n",
            "/usr/local/lib/python3.10/dist-packages/sklearn/utils/validation.py:1143: DataConversionWarning: A column-vector y was passed when a 1d array was expected. Please change the shape of y to (n_samples, ), for example using ravel().\n",
            "  y = column_or_1d(y, warn=True)\n",
            "/usr/local/lib/python3.10/dist-packages/sklearn/linear_model/_sag.py:350: ConvergenceWarning: The max_iter was reached which means the coef_ did not converge\n",
            "  warnings.warn(\n",
            "/usr/local/lib/python3.10/dist-packages/sklearn/utils/validation.py:1143: DataConversionWarning: A column-vector y was passed when a 1d array was expected. Please change the shape of y to (n_samples, ), for example using ravel().\n",
            "  y = column_or_1d(y, warn=True)\n",
            "/usr/local/lib/python3.10/dist-packages/sklearn/linear_model/_sag.py:350: ConvergenceWarning: The max_iter was reached which means the coef_ did not converge\n",
            "  warnings.warn(\n",
            "/usr/local/lib/python3.10/dist-packages/sklearn/utils/validation.py:1143: DataConversionWarning: A column-vector y was passed when a 1d array was expected. Please change the shape of y to (n_samples, ), for example using ravel().\n",
            "  y = column_or_1d(y, warn=True)\n",
            "/usr/local/lib/python3.10/dist-packages/sklearn/linear_model/_sag.py:350: ConvergenceWarning: The max_iter was reached which means the coef_ did not converge\n",
            "  warnings.warn(\n",
            "/usr/local/lib/python3.10/dist-packages/sklearn/utils/validation.py:1143: DataConversionWarning: A column-vector y was passed when a 1d array was expected. Please change the shape of y to (n_samples, ), for example using ravel().\n",
            "  y = column_or_1d(y, warn=True)\n",
            "/usr/local/lib/python3.10/dist-packages/sklearn/linear_model/_sag.py:350: ConvergenceWarning: The max_iter was reached which means the coef_ did not converge\n",
            "  warnings.warn(\n",
            "/usr/local/lib/python3.10/dist-packages/sklearn/utils/validation.py:1143: DataConversionWarning: A column-vector y was passed when a 1d array was expected. Please change the shape of y to (n_samples, ), for example using ravel().\n",
            "  y = column_or_1d(y, warn=True)\n",
            "/usr/local/lib/python3.10/dist-packages/sklearn/linear_model/_sag.py:350: ConvergenceWarning: The max_iter was reached which means the coef_ did not converge\n",
            "  warnings.warn(\n",
            "/usr/local/lib/python3.10/dist-packages/sklearn/utils/validation.py:1143: DataConversionWarning: A column-vector y was passed when a 1d array was expected. Please change the shape of y to (n_samples, ), for example using ravel().\n",
            "  y = column_or_1d(y, warn=True)\n",
            "/usr/local/lib/python3.10/dist-packages/sklearn/linear_model/_sag.py:350: ConvergenceWarning: The max_iter was reached which means the coef_ did not converge\n",
            "  warnings.warn(\n",
            "/usr/local/lib/python3.10/dist-packages/sklearn/utils/validation.py:1143: DataConversionWarning: A column-vector y was passed when a 1d array was expected. Please change the shape of y to (n_samples, ), for example using ravel().\n",
            "  y = column_or_1d(y, warn=True)\n",
            "/usr/local/lib/python3.10/dist-packages/sklearn/linear_model/_sag.py:350: ConvergenceWarning: The max_iter was reached which means the coef_ did not converge\n",
            "  warnings.warn(\n",
            "/usr/local/lib/python3.10/dist-packages/sklearn/utils/validation.py:1143: DataConversionWarning: A column-vector y was passed when a 1d array was expected. Please change the shape of y to (n_samples, ), for example using ravel().\n",
            "  y = column_or_1d(y, warn=True)\n",
            "/usr/local/lib/python3.10/dist-packages/sklearn/utils/validation.py:1143: DataConversionWarning: A column-vector y was passed when a 1d array was expected. Please change the shape of y to (n_samples, ), for example using ravel().\n",
            "  y = column_or_1d(y, warn=True)\n",
            "/usr/local/lib/python3.10/dist-packages/sklearn/utils/validation.py:1143: DataConversionWarning: A column-vector y was passed when a 1d array was expected. Please change the shape of y to (n_samples, ), for example using ravel().\n",
            "  y = column_or_1d(y, warn=True)\n",
            "/usr/local/lib/python3.10/dist-packages/sklearn/utils/validation.py:1143: DataConversionWarning: A column-vector y was passed when a 1d array was expected. Please change the shape of y to (n_samples, ), for example using ravel().\n",
            "  y = column_or_1d(y, warn=True)\n",
            "/usr/local/lib/python3.10/dist-packages/sklearn/utils/validation.py:1143: DataConversionWarning: A column-vector y was passed when a 1d array was expected. Please change the shape of y to (n_samples, ), for example using ravel().\n",
            "  y = column_or_1d(y, warn=True)\n",
            "/usr/local/lib/python3.10/dist-packages/sklearn/utils/validation.py:1143: DataConversionWarning: A column-vector y was passed when a 1d array was expected. Please change the shape of y to (n_samples, ), for example using ravel().\n",
            "  y = column_or_1d(y, warn=True)\n",
            "/usr/local/lib/python3.10/dist-packages/sklearn/linear_model/_sag.py:350: ConvergenceWarning: The max_iter was reached which means the coef_ did not converge\n",
            "  warnings.warn(\n",
            "/usr/local/lib/python3.10/dist-packages/sklearn/utils/validation.py:1143: DataConversionWarning: A column-vector y was passed when a 1d array was expected. Please change the shape of y to (n_samples, ), for example using ravel().\n",
            "  y = column_or_1d(y, warn=True)\n",
            "/usr/local/lib/python3.10/dist-packages/sklearn/linear_model/_sag.py:350: ConvergenceWarning: The max_iter was reached which means the coef_ did not converge\n",
            "  warnings.warn(\n",
            "/usr/local/lib/python3.10/dist-packages/sklearn/utils/validation.py:1143: DataConversionWarning: A column-vector y was passed when a 1d array was expected. Please change the shape of y to (n_samples, ), for example using ravel().\n",
            "  y = column_or_1d(y, warn=True)\n",
            "/usr/local/lib/python3.10/dist-packages/sklearn/linear_model/_sag.py:350: ConvergenceWarning: The max_iter was reached which means the coef_ did not converge\n",
            "  warnings.warn(\n",
            "/usr/local/lib/python3.10/dist-packages/sklearn/utils/validation.py:1143: DataConversionWarning: A column-vector y was passed when a 1d array was expected. Please change the shape of y to (n_samples, ), for example using ravel().\n",
            "  y = column_or_1d(y, warn=True)\n",
            "/usr/local/lib/python3.10/dist-packages/sklearn/linear_model/_sag.py:350: ConvergenceWarning: The max_iter was reached which means the coef_ did not converge\n",
            "  warnings.warn(\n",
            "/usr/local/lib/python3.10/dist-packages/sklearn/utils/validation.py:1143: DataConversionWarning: A column-vector y was passed when a 1d array was expected. Please change the shape of y to (n_samples, ), for example using ravel().\n",
            "  y = column_or_1d(y, warn=True)\n",
            "/usr/local/lib/python3.10/dist-packages/sklearn/linear_model/_sag.py:350: ConvergenceWarning: The max_iter was reached which means the coef_ did not converge\n",
            "  warnings.warn(\n",
            "/usr/local/lib/python3.10/dist-packages/sklearn/utils/validation.py:1143: DataConversionWarning: A column-vector y was passed when a 1d array was expected. Please change the shape of y to (n_samples, ), for example using ravel().\n",
            "  y = column_or_1d(y, warn=True)\n",
            "/usr/local/lib/python3.10/dist-packages/sklearn/utils/validation.py:1143: DataConversionWarning: A column-vector y was passed when a 1d array was expected. Please change the shape of y to (n_samples, ), for example using ravel().\n",
            "  y = column_or_1d(y, warn=True)\n",
            "/usr/local/lib/python3.10/dist-packages/sklearn/utils/validation.py:1143: DataConversionWarning: A column-vector y was passed when a 1d array was expected. Please change the shape of y to (n_samples, ), for example using ravel().\n",
            "  y = column_or_1d(y, warn=True)\n",
            "/usr/local/lib/python3.10/dist-packages/sklearn/utils/validation.py:1143: DataConversionWarning: A column-vector y was passed when a 1d array was expected. Please change the shape of y to (n_samples, ), for example using ravel().\n",
            "  y = column_or_1d(y, warn=True)\n",
            "/usr/local/lib/python3.10/dist-packages/sklearn/utils/validation.py:1143: DataConversionWarning: A column-vector y was passed when a 1d array was expected. Please change the shape of y to (n_samples, ), for example using ravel().\n",
            "  y = column_or_1d(y, warn=True)\n",
            "/usr/local/lib/python3.10/dist-packages/sklearn/utils/validation.py:1143: DataConversionWarning: A column-vector y was passed when a 1d array was expected. Please change the shape of y to (n_samples, ), for example using ravel().\n",
            "  y = column_or_1d(y, warn=True)\n",
            "/usr/local/lib/python3.10/dist-packages/sklearn/utils/validation.py:1143: DataConversionWarning: A column-vector y was passed when a 1d array was expected. Please change the shape of y to (n_samples, ), for example using ravel().\n",
            "  y = column_or_1d(y, warn=True)\n",
            "/usr/local/lib/python3.10/dist-packages/sklearn/utils/validation.py:1143: DataConversionWarning: A column-vector y was passed when a 1d array was expected. Please change the shape of y to (n_samples, ), for example using ravel().\n",
            "  y = column_or_1d(y, warn=True)\n",
            "/usr/local/lib/python3.10/dist-packages/sklearn/utils/validation.py:1143: DataConversionWarning: A column-vector y was passed when a 1d array was expected. Please change the shape of y to (n_samples, ), for example using ravel().\n",
            "  y = column_or_1d(y, warn=True)\n",
            "/usr/local/lib/python3.10/dist-packages/sklearn/utils/validation.py:1143: DataConversionWarning: A column-vector y was passed when a 1d array was expected. Please change the shape of y to (n_samples, ), for example using ravel().\n",
            "  y = column_or_1d(y, warn=True)\n",
            "/usr/local/lib/python3.10/dist-packages/sklearn/utils/validation.py:1143: DataConversionWarning: A column-vector y was passed when a 1d array was expected. Please change the shape of y to (n_samples, ), for example using ravel().\n",
            "  y = column_or_1d(y, warn=True)\n",
            "/usr/local/lib/python3.10/dist-packages/sklearn/utils/validation.py:1143: DataConversionWarning: A column-vector y was passed when a 1d array was expected. Please change the shape of y to (n_samples, ), for example using ravel().\n",
            "  y = column_or_1d(y, warn=True)\n",
            "/usr/local/lib/python3.10/dist-packages/sklearn/utils/validation.py:1143: DataConversionWarning: A column-vector y was passed when a 1d array was expected. Please change the shape of y to (n_samples, ), for example using ravel().\n",
            "  y = column_or_1d(y, warn=True)\n"
          ]
        },
        {
          "output_type": "stream",
          "name": "stdout",
          "text": [
            "Best Hyperparameters: {'C': 0.1, 'class_weight': {0: 0.3133373611975704, 1: 0.6866626388024296}, 'max_iter': 219, 'solver': 'newton-cg'}\n"
          ]
        },
        {
          "output_type": "stream",
          "name": "stderr",
          "text": [
            "/usr/local/lib/python3.10/dist-packages/sklearn/utils/validation.py:1143: DataConversionWarning: A column-vector y was passed when a 1d array was expected. Please change the shape of y to (n_samples, ), for example using ravel().\n",
            "  y = column_or_1d(y, warn=True)\n",
            "/usr/local/lib/python3.10/dist-packages/sklearn/utils/validation.py:1143: DataConversionWarning: A column-vector y was passed when a 1d array was expected. Please change the shape of y to (n_samples, ), for example using ravel().\n",
            "  y = column_or_1d(y, warn=True)\n",
            "/usr/local/lib/python3.10/dist-packages/sklearn/utils/validation.py:1143: DataConversionWarning: A column-vector y was passed when a 1d array was expected. Please change the shape of y to (n_samples, ), for example using ravel().\n",
            "  y = column_or_1d(y, warn=True)\n"
          ]
        }
      ]
    },
    {
      "cell_type": "code",
      "source": [
        "#LogisticRegression after hyperparameter optimization\n",
        "from sklearn.linear_model import LogisticRegression\n",
        "# Define class weights\n",
        "class_weights = {0: 0.3133373611975704, 1: 0.6866626388024296}\n",
        "# Initialize the Logistic Regression model with class weights\n",
        "NEW_model = LogisticRegression(solver='newton-cg', max_iter=219, class_weight=class_weights, C=0.1, random_state=64)\n",
        "# Fit the model\n",
        "NEW_model.fit(x_train, y_train)\n",
        "# Make predictions\n",
        "NEW_model.predict(x_test)\n",
        "# Compare predictions with true labels\n",
        "NEW_model.predict(x_test), y_test\n",
        "NEW_model.score(x_train, y_train)\n"
      ],
      "metadata": {
        "colab": {
          "base_uri": "https://localhost:8080/"
        },
        "id": "GClKw2m-832f",
        "outputId": "146405f5-da3e-41d3-9666-ec54b432bedb"
      },
      "execution_count": null,
      "outputs": [
        {
          "output_type": "stream",
          "name": "stderr",
          "text": [
            "/usr/local/lib/python3.10/dist-packages/sklearn/utils/validation.py:1143: DataConversionWarning: A column-vector y was passed when a 1d array was expected. Please change the shape of y to (n_samples, ), for example using ravel().\n",
            "  y = column_or_1d(y, warn=True)\n"
          ]
        },
        {
          "output_type": "execute_result",
          "data": {
            "text/plain": [
              "1.0"
            ]
          },
          "metadata": {},
          "execution_count": 26
        }
      ]
    },
    {
      "cell_type": "code",
      "source": [
        "NEW_model.score(x_test, y_test)"
      ],
      "metadata": {
        "colab": {
          "base_uri": "https://localhost:8080/"
        },
        "id": "fElAiKDV9Uos",
        "outputId": "a3e8cc7e-2a2d-4123-8eb0-317f2f1c85e4"
      },
      "execution_count": null,
      "outputs": [
        {
          "output_type": "execute_result",
          "data": {
            "text/plain": [
              "1.0"
            ]
          },
          "metadata": {},
          "execution_count": 27
        }
      ]
    },
    {
      "cell_type": "code",
      "source": [
        "#SGDClassifier\n",
        "SGDmodel = SGDClassifier(loss='log_loss', random_state=64)\n",
        "SGDmodel.fit(x_train, y_train)"
      ],
      "metadata": {
        "colab": {
          "base_uri": "https://localhost:8080/",
          "height": 109
        },
        "id": "r9dAs9K5I67g",
        "outputId": "43499665-517c-4342-c972-4a72a94721ab"
      },
      "execution_count": null,
      "outputs": [
        {
          "output_type": "stream",
          "name": "stderr",
          "text": [
            "/usr/local/lib/python3.10/dist-packages/sklearn/utils/validation.py:1143: DataConversionWarning: A column-vector y was passed when a 1d array was expected. Please change the shape of y to (n_samples, ), for example using ravel().\n",
            "  y = column_or_1d(y, warn=True)\n"
          ]
        },
        {
          "output_type": "execute_result",
          "data": {
            "text/plain": [
              "SGDClassifier(loss='log_loss', random_state=64)"
            ],
            "text/html": [
              "<style>#sk-container-id-1 {color: black;background-color: white;}#sk-container-id-1 pre{padding: 0;}#sk-container-id-1 div.sk-toggleable {background-color: white;}#sk-container-id-1 label.sk-toggleable__label {cursor: pointer;display: block;width: 100%;margin-bottom: 0;padding: 0.3em;box-sizing: border-box;text-align: center;}#sk-container-id-1 label.sk-toggleable__label-arrow:before {content: \"▸\";float: left;margin-right: 0.25em;color: #696969;}#sk-container-id-1 label.sk-toggleable__label-arrow:hover:before {color: black;}#sk-container-id-1 div.sk-estimator:hover label.sk-toggleable__label-arrow:before {color: black;}#sk-container-id-1 div.sk-toggleable__content {max-height: 0;max-width: 0;overflow: hidden;text-align: left;background-color: #f0f8ff;}#sk-container-id-1 div.sk-toggleable__content pre {margin: 0.2em;color: black;border-radius: 0.25em;background-color: #f0f8ff;}#sk-container-id-1 input.sk-toggleable__control:checked~div.sk-toggleable__content {max-height: 200px;max-width: 100%;overflow: auto;}#sk-container-id-1 input.sk-toggleable__control:checked~label.sk-toggleable__label-arrow:before {content: \"▾\";}#sk-container-id-1 div.sk-estimator input.sk-toggleable__control:checked~label.sk-toggleable__label {background-color: #d4ebff;}#sk-container-id-1 div.sk-label input.sk-toggleable__control:checked~label.sk-toggleable__label {background-color: #d4ebff;}#sk-container-id-1 input.sk-hidden--visually {border: 0;clip: rect(1px 1px 1px 1px);clip: rect(1px, 1px, 1px, 1px);height: 1px;margin: -1px;overflow: hidden;padding: 0;position: absolute;width: 1px;}#sk-container-id-1 div.sk-estimator {font-family: monospace;background-color: #f0f8ff;border: 1px dotted black;border-radius: 0.25em;box-sizing: border-box;margin-bottom: 0.5em;}#sk-container-id-1 div.sk-estimator:hover {background-color: #d4ebff;}#sk-container-id-1 div.sk-parallel-item::after {content: \"\";width: 100%;border-bottom: 1px solid gray;flex-grow: 1;}#sk-container-id-1 div.sk-label:hover label.sk-toggleable__label {background-color: #d4ebff;}#sk-container-id-1 div.sk-serial::before {content: \"\";position: absolute;border-left: 1px solid gray;box-sizing: border-box;top: 0;bottom: 0;left: 50%;z-index: 0;}#sk-container-id-1 div.sk-serial {display: flex;flex-direction: column;align-items: center;background-color: white;padding-right: 0.2em;padding-left: 0.2em;position: relative;}#sk-container-id-1 div.sk-item {position: relative;z-index: 1;}#sk-container-id-1 div.sk-parallel {display: flex;align-items: stretch;justify-content: center;background-color: white;position: relative;}#sk-container-id-1 div.sk-item::before, #sk-container-id-1 div.sk-parallel-item::before {content: \"\";position: absolute;border-left: 1px solid gray;box-sizing: border-box;top: 0;bottom: 0;left: 50%;z-index: -1;}#sk-container-id-1 div.sk-parallel-item {display: flex;flex-direction: column;z-index: 1;position: relative;background-color: white;}#sk-container-id-1 div.sk-parallel-item:first-child::after {align-self: flex-end;width: 50%;}#sk-container-id-1 div.sk-parallel-item:last-child::after {align-self: flex-start;width: 50%;}#sk-container-id-1 div.sk-parallel-item:only-child::after {width: 0;}#sk-container-id-1 div.sk-dashed-wrapped {border: 1px dashed gray;margin: 0 0.4em 0.5em 0.4em;box-sizing: border-box;padding-bottom: 0.4em;background-color: white;}#sk-container-id-1 div.sk-label label {font-family: monospace;font-weight: bold;display: inline-block;line-height: 1.2em;}#sk-container-id-1 div.sk-label-container {text-align: center;}#sk-container-id-1 div.sk-container {/* jupyter's `normalize.less` sets `[hidden] { display: none; }` but bootstrap.min.css set `[hidden] { display: none !important; }` so we also need the `!important` here to be able to override the default hidden behavior on the sphinx rendered scikit-learn.org. See: https://github.com/scikit-learn/scikit-learn/issues/21755 */display: inline-block !important;position: relative;}#sk-container-id-1 div.sk-text-repr-fallback {display: none;}</style><div id=\"sk-container-id-1\" class=\"sk-top-container\"><div class=\"sk-text-repr-fallback\"><pre>SGDClassifier(loss=&#x27;log_loss&#x27;, random_state=64)</pre><b>In a Jupyter environment, please rerun this cell to show the HTML representation or trust the notebook. <br />On GitHub, the HTML representation is unable to render, please try loading this page with nbviewer.org.</b></div><div class=\"sk-container\" hidden><div class=\"sk-item\"><div class=\"sk-estimator sk-toggleable\"><input class=\"sk-toggleable__control sk-hidden--visually\" id=\"sk-estimator-id-1\" type=\"checkbox\" checked><label for=\"sk-estimator-id-1\" class=\"sk-toggleable__label sk-toggleable__label-arrow\">SGDClassifier</label><div class=\"sk-toggleable__content\"><pre>SGDClassifier(loss=&#x27;log_loss&#x27;, random_state=64)</pre></div></div></div></div></div>"
            ]
          },
          "metadata": {},
          "execution_count": 28
        }
      ]
    },
    {
      "cell_type": "code",
      "source": [
        "SGDmodel.score(x_train, y_train)"
      ],
      "metadata": {
        "colab": {
          "base_uri": "https://localhost:8080/"
        },
        "id": "b3aKc3BpJfZO",
        "outputId": "e967207d-2c98-41f4-94f3-a9e2f92a3d55"
      },
      "execution_count": null,
      "outputs": [
        {
          "output_type": "execute_result",
          "data": {
            "text/plain": [
              "1.0"
            ]
          },
          "metadata": {},
          "execution_count": 29
        }
      ]
    },
    {
      "cell_type": "code",
      "source": [
        "SGDmodel.score(x_test, y_test)"
      ],
      "metadata": {
        "colab": {
          "base_uri": "https://localhost:8080/"
        },
        "id": "o9qHRWvgJjb_",
        "outputId": "292dd3ce-1d8b-490c-d452-37d7f53156e7"
      },
      "execution_count": null,
      "outputs": [
        {
          "output_type": "execute_result",
          "data": {
            "text/plain": [
              "1.0"
            ]
          },
          "metadata": {},
          "execution_count": 30
        }
      ]
    },
    {
      "cell_type": "code",
      "source": [
        "#optimize hyperparameter using random search\n",
        "from sklearn.model_selection import RandomizedSearchCV\n",
        "from scipy.stats import randint\n",
        "\n",
        "# Define hyperparameter\n",
        "np.random.seed(64)\n",
        "param_dist = {\n",
        "    'alpha': [0.0001, 0.001, 0.01, 0.1, 10],  # Regularization parameter\n",
        "    'max_iter': randint(100, 1000),       # Maximum number of iterations\n",
        "    'learning_rate': ['optimal', 'constant', 'adaptive'],  # Learning rate schedule\n",
        "    'eta0' :[0.99, 0.95, 0.91, 0.87, 0.83] #initial learning rate\n",
        "    }\n",
        "\n",
        "# Perform random search\n",
        "random_search = RandomizedSearchCV(SGDmodel, param_dist, scoring='accuracy',random_state=64)\n",
        "random_search.fit(x_train, y_train)\n",
        "\n",
        "# Best hyperparameters\n",
        "print(\"Best Hyperparameters:\", random_search.best_params_)\n"
      ],
      "metadata": {
        "colab": {
          "base_uri": "https://localhost:8080/"
        },
        "id": "W0V8pxoeA6EY",
        "outputId": "5260a103-5c14-4f07-d506-c0d512abbb19"
      },
      "execution_count": null,
      "outputs": [
        {
          "output_type": "stream",
          "name": "stderr",
          "text": [
            "/usr/local/lib/python3.10/dist-packages/sklearn/utils/validation.py:1143: DataConversionWarning: A column-vector y was passed when a 1d array was expected. Please change the shape of y to (n_samples, ), for example using ravel().\n",
            "  y = column_or_1d(y, warn=True)\n",
            "/usr/local/lib/python3.10/dist-packages/sklearn/utils/validation.py:1143: DataConversionWarning: A column-vector y was passed when a 1d array was expected. Please change the shape of y to (n_samples, ), for example using ravel().\n",
            "  y = column_or_1d(y, warn=True)\n",
            "/usr/local/lib/python3.10/dist-packages/sklearn/utils/validation.py:1143: DataConversionWarning: A column-vector y was passed when a 1d array was expected. Please change the shape of y to (n_samples, ), for example using ravel().\n",
            "  y = column_or_1d(y, warn=True)\n",
            "/usr/local/lib/python3.10/dist-packages/sklearn/utils/validation.py:1143: DataConversionWarning: A column-vector y was passed when a 1d array was expected. Please change the shape of y to (n_samples, ), for example using ravel().\n",
            "  y = column_or_1d(y, warn=True)\n",
            "/usr/local/lib/python3.10/dist-packages/sklearn/utils/validation.py:1143: DataConversionWarning: A column-vector y was passed when a 1d array was expected. Please change the shape of y to (n_samples, ), for example using ravel().\n",
            "  y = column_or_1d(y, warn=True)\n",
            "/usr/local/lib/python3.10/dist-packages/sklearn/utils/validation.py:1143: DataConversionWarning: A column-vector y was passed when a 1d array was expected. Please change the shape of y to (n_samples, ), for example using ravel().\n",
            "  y = column_or_1d(y, warn=True)\n",
            "/usr/local/lib/python3.10/dist-packages/sklearn/utils/validation.py:1143: DataConversionWarning: A column-vector y was passed when a 1d array was expected. Please change the shape of y to (n_samples, ), for example using ravel().\n",
            "  y = column_or_1d(y, warn=True)\n",
            "/usr/local/lib/python3.10/dist-packages/sklearn/utils/validation.py:1143: DataConversionWarning: A column-vector y was passed when a 1d array was expected. Please change the shape of y to (n_samples, ), for example using ravel().\n",
            "  y = column_or_1d(y, warn=True)\n",
            "/usr/local/lib/python3.10/dist-packages/sklearn/utils/validation.py:1143: DataConversionWarning: A column-vector y was passed when a 1d array was expected. Please change the shape of y to (n_samples, ), for example using ravel().\n",
            "  y = column_or_1d(y, warn=True)\n",
            "/usr/local/lib/python3.10/dist-packages/sklearn/utils/validation.py:1143: DataConversionWarning: A column-vector y was passed when a 1d array was expected. Please change the shape of y to (n_samples, ), for example using ravel().\n",
            "  y = column_or_1d(y, warn=True)\n",
            "/usr/local/lib/python3.10/dist-packages/sklearn/utils/validation.py:1143: DataConversionWarning: A column-vector y was passed when a 1d array was expected. Please change the shape of y to (n_samples, ), for example using ravel().\n",
            "  y = column_or_1d(y, warn=True)\n",
            "/usr/local/lib/python3.10/dist-packages/sklearn/utils/validation.py:1143: DataConversionWarning: A column-vector y was passed when a 1d array was expected. Please change the shape of y to (n_samples, ), for example using ravel().\n",
            "  y = column_or_1d(y, warn=True)\n",
            "/usr/local/lib/python3.10/dist-packages/sklearn/utils/validation.py:1143: DataConversionWarning: A column-vector y was passed when a 1d array was expected. Please change the shape of y to (n_samples, ), for example using ravel().\n",
            "  y = column_or_1d(y, warn=True)\n",
            "/usr/local/lib/python3.10/dist-packages/sklearn/utils/validation.py:1143: DataConversionWarning: A column-vector y was passed when a 1d array was expected. Please change the shape of y to (n_samples, ), for example using ravel().\n",
            "  y = column_or_1d(y, warn=True)\n",
            "/usr/local/lib/python3.10/dist-packages/sklearn/utils/validation.py:1143: DataConversionWarning: A column-vector y was passed when a 1d array was expected. Please change the shape of y to (n_samples, ), for example using ravel().\n",
            "  y = column_or_1d(y, warn=True)\n",
            "/usr/local/lib/python3.10/dist-packages/sklearn/utils/validation.py:1143: DataConversionWarning: A column-vector y was passed when a 1d array was expected. Please change the shape of y to (n_samples, ), for example using ravel().\n",
            "  y = column_or_1d(y, warn=True)\n",
            "/usr/local/lib/python3.10/dist-packages/sklearn/utils/validation.py:1143: DataConversionWarning: A column-vector y was passed when a 1d array was expected. Please change the shape of y to (n_samples, ), for example using ravel().\n",
            "  y = column_or_1d(y, warn=True)\n",
            "/usr/local/lib/python3.10/dist-packages/sklearn/utils/validation.py:1143: DataConversionWarning: A column-vector y was passed when a 1d array was expected. Please change the shape of y to (n_samples, ), for example using ravel().\n",
            "  y = column_or_1d(y, warn=True)\n",
            "/usr/local/lib/python3.10/dist-packages/sklearn/utils/validation.py:1143: DataConversionWarning: A column-vector y was passed when a 1d array was expected. Please change the shape of y to (n_samples, ), for example using ravel().\n",
            "  y = column_or_1d(y, warn=True)\n",
            "/usr/local/lib/python3.10/dist-packages/sklearn/utils/validation.py:1143: DataConversionWarning: A column-vector y was passed when a 1d array was expected. Please change the shape of y to (n_samples, ), for example using ravel().\n",
            "  y = column_or_1d(y, warn=True)\n",
            "/usr/local/lib/python3.10/dist-packages/sklearn/utils/validation.py:1143: DataConversionWarning: A column-vector y was passed when a 1d array was expected. Please change the shape of y to (n_samples, ), for example using ravel().\n",
            "  y = column_or_1d(y, warn=True)\n",
            "/usr/local/lib/python3.10/dist-packages/sklearn/utils/validation.py:1143: DataConversionWarning: A column-vector y was passed when a 1d array was expected. Please change the shape of y to (n_samples, ), for example using ravel().\n",
            "  y = column_or_1d(y, warn=True)\n",
            "/usr/local/lib/python3.10/dist-packages/sklearn/utils/validation.py:1143: DataConversionWarning: A column-vector y was passed when a 1d array was expected. Please change the shape of y to (n_samples, ), for example using ravel().\n",
            "  y = column_or_1d(y, warn=True)\n",
            "/usr/local/lib/python3.10/dist-packages/sklearn/utils/validation.py:1143: DataConversionWarning: A column-vector y was passed when a 1d array was expected. Please change the shape of y to (n_samples, ), for example using ravel().\n",
            "  y = column_or_1d(y, warn=True)\n",
            "/usr/local/lib/python3.10/dist-packages/sklearn/utils/validation.py:1143: DataConversionWarning: A column-vector y was passed when a 1d array was expected. Please change the shape of y to (n_samples, ), for example using ravel().\n",
            "  y = column_or_1d(y, warn=True)\n",
            "/usr/local/lib/python3.10/dist-packages/sklearn/utils/validation.py:1143: DataConversionWarning: A column-vector y was passed when a 1d array was expected. Please change the shape of y to (n_samples, ), for example using ravel().\n",
            "  y = column_or_1d(y, warn=True)\n",
            "/usr/local/lib/python3.10/dist-packages/sklearn/utils/validation.py:1143: DataConversionWarning: A column-vector y was passed when a 1d array was expected. Please change the shape of y to (n_samples, ), for example using ravel().\n",
            "  y = column_or_1d(y, warn=True)\n",
            "/usr/local/lib/python3.10/dist-packages/sklearn/utils/validation.py:1143: DataConversionWarning: A column-vector y was passed when a 1d array was expected. Please change the shape of y to (n_samples, ), for example using ravel().\n",
            "  y = column_or_1d(y, warn=True)\n",
            "/usr/local/lib/python3.10/dist-packages/sklearn/utils/validation.py:1143: DataConversionWarning: A column-vector y was passed when a 1d array was expected. Please change the shape of y to (n_samples, ), for example using ravel().\n",
            "  y = column_or_1d(y, warn=True)\n",
            "/usr/local/lib/python3.10/dist-packages/sklearn/utils/validation.py:1143: DataConversionWarning: A column-vector y was passed when a 1d array was expected. Please change the shape of y to (n_samples, ), for example using ravel().\n",
            "  y = column_or_1d(y, warn=True)\n",
            "/usr/local/lib/python3.10/dist-packages/sklearn/utils/validation.py:1143: DataConversionWarning: A column-vector y was passed when a 1d array was expected. Please change the shape of y to (n_samples, ), for example using ravel().\n",
            "  y = column_or_1d(y, warn=True)\n",
            "/usr/local/lib/python3.10/dist-packages/sklearn/utils/validation.py:1143: DataConversionWarning: A column-vector y was passed when a 1d array was expected. Please change the shape of y to (n_samples, ), for example using ravel().\n",
            "  y = column_or_1d(y, warn=True)\n",
            "/usr/local/lib/python3.10/dist-packages/sklearn/utils/validation.py:1143: DataConversionWarning: A column-vector y was passed when a 1d array was expected. Please change the shape of y to (n_samples, ), for example using ravel().\n",
            "  y = column_or_1d(y, warn=True)\n",
            "/usr/local/lib/python3.10/dist-packages/sklearn/utils/validation.py:1143: DataConversionWarning: A column-vector y was passed when a 1d array was expected. Please change the shape of y to (n_samples, ), for example using ravel().\n",
            "  y = column_or_1d(y, warn=True)\n",
            "/usr/local/lib/python3.10/dist-packages/sklearn/utils/validation.py:1143: DataConversionWarning: A column-vector y was passed when a 1d array was expected. Please change the shape of y to (n_samples, ), for example using ravel().\n",
            "  y = column_or_1d(y, warn=True)\n",
            "/usr/local/lib/python3.10/dist-packages/sklearn/utils/validation.py:1143: DataConversionWarning: A column-vector y was passed when a 1d array was expected. Please change the shape of y to (n_samples, ), for example using ravel().\n",
            "  y = column_or_1d(y, warn=True)\n",
            "/usr/local/lib/python3.10/dist-packages/sklearn/utils/validation.py:1143: DataConversionWarning: A column-vector y was passed when a 1d array was expected. Please change the shape of y to (n_samples, ), for example using ravel().\n",
            "  y = column_or_1d(y, warn=True)\n",
            "/usr/local/lib/python3.10/dist-packages/sklearn/utils/validation.py:1143: DataConversionWarning: A column-vector y was passed when a 1d array was expected. Please change the shape of y to (n_samples, ), for example using ravel().\n",
            "  y = column_or_1d(y, warn=True)\n",
            "/usr/local/lib/python3.10/dist-packages/sklearn/utils/validation.py:1143: DataConversionWarning: A column-vector y was passed when a 1d array was expected. Please change the shape of y to (n_samples, ), for example using ravel().\n",
            "  y = column_or_1d(y, warn=True)\n"
          ]
        },
        {
          "output_type": "stream",
          "name": "stdout",
          "text": [
            "Best Hyperparameters: {'alpha': 10, 'eta0': 0.95, 'learning_rate': 'optimal', 'max_iter': 919}\n"
          ]
        },
        {
          "output_type": "stream",
          "name": "stderr",
          "text": [
            "/usr/local/lib/python3.10/dist-packages/sklearn/utils/validation.py:1143: DataConversionWarning: A column-vector y was passed when a 1d array was expected. Please change the shape of y to (n_samples, ), for example using ravel().\n",
            "  y = column_or_1d(y, warn=True)\n",
            "/usr/local/lib/python3.10/dist-packages/sklearn/utils/validation.py:1143: DataConversionWarning: A column-vector y was passed when a 1d array was expected. Please change the shape of y to (n_samples, ), for example using ravel().\n",
            "  y = column_or_1d(y, warn=True)\n",
            "/usr/local/lib/python3.10/dist-packages/sklearn/utils/validation.py:1143: DataConversionWarning: A column-vector y was passed when a 1d array was expected. Please change the shape of y to (n_samples, ), for example using ravel().\n",
            "  y = column_or_1d(y, warn=True)\n",
            "/usr/local/lib/python3.10/dist-packages/sklearn/utils/validation.py:1143: DataConversionWarning: A column-vector y was passed when a 1d array was expected. Please change the shape of y to (n_samples, ), for example using ravel().\n",
            "  y = column_or_1d(y, warn=True)\n",
            "/usr/local/lib/python3.10/dist-packages/sklearn/utils/validation.py:1143: DataConversionWarning: A column-vector y was passed when a 1d array was expected. Please change the shape of y to (n_samples, ), for example using ravel().\n",
            "  y = column_or_1d(y, warn=True)\n",
            "/usr/local/lib/python3.10/dist-packages/sklearn/utils/validation.py:1143: DataConversionWarning: A column-vector y was passed when a 1d array was expected. Please change the shape of y to (n_samples, ), for example using ravel().\n",
            "  y = column_or_1d(y, warn=True)\n",
            "/usr/local/lib/python3.10/dist-packages/sklearn/utils/validation.py:1143: DataConversionWarning: A column-vector y was passed when a 1d array was expected. Please change the shape of y to (n_samples, ), for example using ravel().\n",
            "  y = column_or_1d(y, warn=True)\n",
            "/usr/local/lib/python3.10/dist-packages/sklearn/utils/validation.py:1143: DataConversionWarning: A column-vector y was passed when a 1d array was expected. Please change the shape of y to (n_samples, ), for example using ravel().\n",
            "  y = column_or_1d(y, warn=True)\n",
            "/usr/local/lib/python3.10/dist-packages/sklearn/utils/validation.py:1143: DataConversionWarning: A column-vector y was passed when a 1d array was expected. Please change the shape of y to (n_samples, ), for example using ravel().\n",
            "  y = column_or_1d(y, warn=True)\n",
            "/usr/local/lib/python3.10/dist-packages/sklearn/utils/validation.py:1143: DataConversionWarning: A column-vector y was passed when a 1d array was expected. Please change the shape of y to (n_samples, ), for example using ravel().\n",
            "  y = column_or_1d(y, warn=True)\n",
            "/usr/local/lib/python3.10/dist-packages/sklearn/utils/validation.py:1143: DataConversionWarning: A column-vector y was passed when a 1d array was expected. Please change the shape of y to (n_samples, ), for example using ravel().\n",
            "  y = column_or_1d(y, warn=True)\n",
            "/usr/local/lib/python3.10/dist-packages/sklearn/utils/validation.py:1143: DataConversionWarning: A column-vector y was passed when a 1d array was expected. Please change the shape of y to (n_samples, ), for example using ravel().\n",
            "  y = column_or_1d(y, warn=True)\n"
          ]
        }
      ]
    },
    {
      "cell_type": "code",
      "source": [
        "NEW_SGDmodel = SGDClassifier(loss='log_loss', alpha=10, max_iter=919, random_state=64, learning_rate='optimal', eta0=0.95)\n",
        "NEW_SGDmodel.fit(x_train, y_train)\n",
        "NEW_SGDmodel.score(x_train, y_train)"
      ],
      "metadata": {
        "colab": {
          "base_uri": "https://localhost:8080/"
        },
        "id": "sl3OVTERCC-P",
        "outputId": "54a6bde5-6781-45b5-80a1-b5525100c2ee"
      },
      "execution_count": null,
      "outputs": [
        {
          "output_type": "stream",
          "name": "stderr",
          "text": [
            "/usr/local/lib/python3.10/dist-packages/sklearn/utils/validation.py:1143: DataConversionWarning: A column-vector y was passed when a 1d array was expected. Please change the shape of y to (n_samples, ), for example using ravel().\n",
            "  y = column_or_1d(y, warn=True)\n"
          ]
        },
        {
          "output_type": "execute_result",
          "data": {
            "text/plain": [
              "1.0"
            ]
          },
          "metadata": {},
          "execution_count": 33
        }
      ]
    },
    {
      "cell_type": "code",
      "source": [
        "NEW_SGDmodel.score(x_test, y_test)"
      ],
      "metadata": {
        "colab": {
          "base_uri": "https://localhost:8080/"
        },
        "id": "cym2PQdtCI_O",
        "outputId": "4f6d8511-dbb4-44fe-e38b-fc592dd20ac5"
      },
      "execution_count": null,
      "outputs": [
        {
          "output_type": "execute_result",
          "data": {
            "text/plain": [
              "1.0"
            ]
          },
          "metadata": {},
          "execution_count": 34
        }
      ]
    },
    {
      "cell_type": "code",
      "source": [
        "from sklearn.metrics import log_loss\n",
        "error_hist = []\n",
        "\n",
        "for epoch in range(n_epochs):\n",
        "    # predictions\n",
        "    y_hat = model.predict_log_proba(x_test)\n",
        "    # loss\n",
        "    e = log_loss(y_test, y_hat)\n",
        "    error_hist.append(e)\n",
        "\n",
        "    if (epoch+1) % 100 == 0:\n",
        "        print(f'Epoch={epoch}, \\t E={e:.4},\\t w={w.T[0]}')\n",
        "\n",
        "plt.plot(error_hist)\n"
      ],
      "metadata": {
        "colab": {
          "base_uri": "https://localhost:8080/",
          "height": 795
        },
        "id": "Wph1y9QXKakn",
        "outputId": "567b089a-7e17-40f3-bb11-a62e127138b2"
      },
      "execution_count": null,
      "outputs": [
        {
          "output_type": "stream",
          "name": "stdout",
          "text": [
            "Epoch=99, \t E=0.6931,\t w=[ 2.21340427 -1.96129652 -1.214637    1.78997482 -1.96292359  1.13011622\n",
            " -1.86272865 -1.05792006 -1.10143997]\n",
            "Epoch=199, \t E=0.6931,\t w=[ 2.21340427 -1.96129652 -1.214637    1.78997482 -1.96292359  1.13011622\n",
            " -1.86272865 -1.05792006 -1.10143997]\n",
            "Epoch=299, \t E=0.6931,\t w=[ 2.21340427 -1.96129652 -1.214637    1.78997482 -1.96292359  1.13011622\n",
            " -1.86272865 -1.05792006 -1.10143997]\n",
            "Epoch=399, \t E=0.6931,\t w=[ 2.21340427 -1.96129652 -1.214637    1.78997482 -1.96292359  1.13011622\n",
            " -1.86272865 -1.05792006 -1.10143997]\n",
            "Epoch=499, \t E=0.6931,\t w=[ 2.21340427 -1.96129652 -1.214637    1.78997482 -1.96292359  1.13011622\n",
            " -1.86272865 -1.05792006 -1.10143997]\n",
            "Epoch=599, \t E=0.6931,\t w=[ 2.21340427 -1.96129652 -1.214637    1.78997482 -1.96292359  1.13011622\n",
            " -1.86272865 -1.05792006 -1.10143997]\n",
            "Epoch=699, \t E=0.6931,\t w=[ 2.21340427 -1.96129652 -1.214637    1.78997482 -1.96292359  1.13011622\n",
            " -1.86272865 -1.05792006 -1.10143997]\n",
            "Epoch=799, \t E=0.6931,\t w=[ 2.21340427 -1.96129652 -1.214637    1.78997482 -1.96292359  1.13011622\n",
            " -1.86272865 -1.05792006 -1.10143997]\n",
            "Epoch=899, \t E=0.6931,\t w=[ 2.21340427 -1.96129652 -1.214637    1.78997482 -1.96292359  1.13011622\n",
            " -1.86272865 -1.05792006 -1.10143997]\n",
            "Epoch=999, \t E=0.6931,\t w=[ 2.21340427 -1.96129652 -1.214637    1.78997482 -1.96292359  1.13011622\n",
            " -1.86272865 -1.05792006 -1.10143997]\n"
          ]
        },
        {
          "output_type": "execute_result",
          "data": {
            "text/plain": [
              "[<matplotlib.lines.Line2D at 0x7adf9cdd6e60>]"
            ]
          },
          "metadata": {},
          "execution_count": 55
        },
        {
          "output_type": "display_data",
          "data": {
            "text/plain": [
              "<Figure size 640x480 with 1 Axes>"
            ],
            "image/png": "[encoded data removed]"
          },
          "metadata": {}
        }
      ]
    }
  ],
  "metadata": {
    "colab": {
      "provenance": []
    },
    "kernelspec": {
      "display_name": "Python 3",
      "name": "python3"
    },
    "language_info": {
      "name": "python"
    }
  },
  "nbformat": 4,
  "nbformat_minor": 0
}